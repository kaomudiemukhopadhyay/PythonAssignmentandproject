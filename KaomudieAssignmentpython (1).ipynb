{
 "cells": [
  {
   "cell_type": "code",
   "execution_count": null,
   "id": "78d335e3-9c57-4b3b-8ce4-f28be301862b",
   "metadata": {},
   "outputs": [],
   "source": [
    ": Write a Python program to remove duplicates from a list.\n",
    "INPUT: a = [10,20,30,20,10,50,60,40,80,50,40]\n",
    "OUTPUT: {40, 10, 80, 50, 20, 60, 30}"
   ]
  },
  {
   "cell_type": "code",
   "execution_count": 1,
   "id": "ef7c4eb9-daed-4fba-9434-6e7013afa5c4",
   "metadata": {},
   "outputs": [
    {
     "name": "stdout",
     "output_type": "stream",
     "text": [
      "{40, 10, 80, 50, 20, 60, 30}\n"
     ]
    }
   ],
   "source": [
    "a = [10,20,30,20,10,50,60,40,80,50,40]\n",
    "dup_items = set()\n",
    "uniq_items = []\n",
    "for x in a:\n",
    "    if x not in dup_items:\n",
    "        uniq_items.append(x)\n",
    "        dup_items.add(x)\n",
    "print(dup_items)"
   ]
  },
  {
   "cell_type": "code",
   "execution_count": 37,
   "id": "da75ef2d-b620-4d0c-8855-5d9220f5f0fd",
   "metadata": {},
   "outputs": [
    {
     "name": "stdout",
     "output_type": "stream",
     "text": [
      "{40, 10, 80, 50, 20, 60, 30}\n"
     ]
    }
   ],
   "source": [
    "a = [10,20,30,20,10,50,60,40,80,50,40]\n",
    "dup_items = set()\n",
    "uniq_items = []\n",
    "for x in a:\n",
    "    if x not in dup_items:\n",
    "        uniq_items.append(x)\n",
    "        dup_items.add(x)\n",
    "print(dup_items)"
   ]
  },
  {
   "cell_type": "code",
   "execution_count": null,
   "id": "d422366e-b565-4416-bd28-2db336cd59c4",
   "metadata": {},
   "outputs": [],
   "source": [
    "Write a Python program to sum all the items in a list.\n",
    "INPUT: [1,2,-8]"
   ]
  },
  {
   "cell_type": "code",
   "execution_count": 38,
   "id": "5a6cb195-71d2-4a39-89ac-1b99f79851a0",
   "metadata": {},
   "outputs": [
    {
     "name": "stdout",
     "output_type": "stream",
     "text": [
      "-5\n"
     ]
    }
   ],
   "source": [
    "def sum_list(items):\n",
    "    sum_numbers = 0\n",
    "    for x in items:\n",
    "        sum_numbers += x\n",
    "    return sum_numbers\n",
    "print(sum_list([1,2,-8]))"
   ]
  },
  {
   "cell_type": "code",
   "execution_count": null,
   "id": "843dd307-2a87-4f16-8912-26f5eaa49e25",
   "metadata": {},
   "outputs": [],
   "source": [
    "Write a Python program to count the number of strings from a given list of\n",
    "strings with length 2 or more and the first and last characters are the same.\n",
    "INPUT: ['abc', 'xyz', 'aba', '1221]"
   ]
  },
  {
   "cell_type": "code",
   "execution_count": 39,
   "id": "19775ffc-2c1b-4058-a442-927d6d8181cb",
   "metadata": {},
   "outputs": [
    {
     "name": "stdout",
     "output_type": "stream",
     "text": [
      "2\n"
     ]
    }
   ],
   "source": [
    "def match_words(words):\n",
    "  ctr = 0\n",
    "\n",
    "  for word in words:\n",
    "    if len(word) > 1 and word[0] == word[-1]:\n",
    "      ctr += 1\n",
    "  return ctr\n",
    "\n",
    "print(match_words(['abc', 'xyz', 'aba', '1221']))"
   ]
  },
  {
   "cell_type": "code",
   "execution_count": null,
   "id": "818073c4-3094-41fb-ab32-db3df2f85c91",
   "metadata": {},
   "outputs": [],
   "source": [
    "Write a Python program to print a specified list after removing the 0th, 4th\n",
    "and 5th elements.\n",
    "INPUT: ['Red', 'Green', 'White', 'Black', 'Pink', 'Yellow']\n"
   ]
  },
  {
   "cell_type": "code",
   "execution_count": 14,
   "id": "565aa984-26fe-42f4-b1c4-242a03d884eb",
   "metadata": {},
   "outputs": [
    {
     "name": "stdout",
     "output_type": "stream",
     "text": [
      "['Green', 'White', 'Black']\n"
     ]
    }
   ],
   "source": [
    "color = ['Red', 'Green', 'White', 'Black', 'Pink', 'Yellow']\n",
    "color = [x for (a,x) in enumerate(color) if a not in (0,4,5)]\n",
    "print(color)"
   ]
  },
  {
   "cell_type": "code",
   "execution_count": null,
   "id": "ddc66546-7535-417e-94ec-cc440ea77a57",
   "metadata": {},
   "outputs": [],
   "source": [
    "Q. Write a Python program to print the numbers of a specified list after removing\n",
    "even numbers from it.\n",
    "INPUT: [7,8, 120, 25, 44, 20, 27]\n"
   ]
  },
  {
   "cell_type": "code",
   "execution_count": 40,
   "id": "ae704392-cc35-42a1-84ac-1d04ca79dae1",
   "metadata": {},
   "outputs": [
    {
     "name": "stdout",
     "output_type": "stream",
     "text": [
      "[7, 25, 27]\n"
     ]
    }
   ],
   "source": [
    "num = [7,8, 120, 25, 44, 20, 27]\n",
    "num = [x for x in num if x%2!=0]\n",
    "print(num)"
   ]
  },
  {
   "cell_type": "code",
   "execution_count": null,
   "id": "cedf627a-9599-4047-bdff-48da4295ee47",
   "metadata": {},
   "outputs": [],
   "source": [
    "Q. Write a Python program to get unique values from a list.\n",
    "INPUT: [10, 20, 30, 40, 20, 50, 60, 40]"
   ]
  },
  {
   "cell_type": "code",
   "execution_count": 18,
   "id": "6ea1fde1-8713-4e2e-86c7-0168196e5e44",
   "metadata": {},
   "outputs": [
    {
     "name": "stdout",
     "output_type": "stream",
     "text": [
      "unique numbers :  [40, 10, 50, 20, 60, 30]\n"
     ]
    }
   ],
   "source": [
    "my_list = [10, 20, 30, 40, 20, 50, 60, 40]\n",
    "my_set = set(my_list)\n",
    "my_new_list = list(my_set)\n",
    "print(\"unique numbers : \",my_new_list)"
   ]
  },
  {
   "cell_type": "code",
   "execution_count": null,
   "id": "80b12b32-a3ee-4865-894f-37c922835bb8",
   "metadata": {},
   "outputs": [],
   "source": [
    ". Write a Python program to convert a list of characters into a string.\n",
    "INPUT: ['a', 'b', 'c', 'd']"
   ]
  },
  {
   "cell_type": "code",
   "execution_count": 20,
   "id": "f97e91cc-f2a7-4055-985b-8c91aaeb7e8a",
   "metadata": {},
   "outputs": [
    {
     "name": "stdout",
     "output_type": "stream",
     "text": [
      "abcd\n"
     ]
    }
   ],
   "source": [
    "s = ['a', 'b', 'c', 'd']\n",
    "str = ''.join(s)\n",
    "print(str)"
   ]
  },
  {
   "cell_type": "code",
   "execution_count": null,
   "id": "5da5edab-f82d-49ca-b636-21c9ff81a4fc",
   "metadata": {},
   "outputs": [],
   "source": [
    "Q. Write a Python program to calculate the difference between the two lists.\n",
    "INPUT:\n",
    "list1 = [1, 3, 5, 7, 9]\n",
    "list2 = [1, 2, 4, 6, 7, 8]"
   ]
  },
  {
   "cell_type": "code",
   "execution_count": 23,
   "id": "5b46b19c-908b-4a54-83c9-4ea620dda069",
   "metadata": {},
   "outputs": [
    {
     "name": "stdout",
     "output_type": "stream",
     "text": [
      "[9, 3, 5, 8, 2, 4, 6]\n"
     ]
    }
   ],
   "source": [
    "list1 = [1, 3, 5, 7, 9]\n",
    "list2=[1, 2, 4, 6, 7, 8]\n",
    "diff_list1_list2 = list(set(list1) - set(list2))\n",
    "diff_list2_list1 = list(set(list2) - set(list1))\n",
    "total_diff = diff_list1_list2 + diff_list2_list1\n",
    "print(total_diff)"
   ]
  },
  {
   "cell_type": "code",
   "execution_count": null,
   "id": "10ed31ed-4c81-41f6-be3f-9021d02b1044",
   "metadata": {},
   "outputs": [],
   "source": [
    "Write a Python program to get the frequency of elements in a list.\n",
    "INPUT: [1, 2, 3, 2, 4, 1, 3, 5, 2, 3, 4, 1]\n"
   ]
  },
  {
   "cell_type": "code",
   "execution_count": 31,
   "id": "30c6f66d-5feb-40cd-9d52-b725b7c7ce0a",
   "metadata": {},
   "outputs": [
    {
     "name": "stdout",
     "output_type": "stream",
     "text": [
      "Counter({1: 3, 2: 3, 3: 3, 4: 2, 5: 1})\n"
     ]
    }
   ],
   "source": [
    "import collections\n",
    "my_list = [1, 2, 3, 2, 4, 1, 3, 5, 2, 3, 4, 1]\n",
    "ctr = collections.Counter(my_list)\n",
    "print(ctr)"
   ]
  },
  {
   "cell_type": "code",
   "execution_count": null,
   "id": "cc1d597a-77dd-4db4-a3f4-8f80ea31bb79",
   "metadata": {},
   "outputs": [],
   "source": [
    "Write a Python program to find common items in two lists.\n",
    "INPUT:\n",
    "color1 = \"Red\", \"Green\", \"Orange\", \"White\"\n",
    "color2 = \"Black\", \"Green\", \"White\", \"Pink\""
   ]
  },
  {
   "cell_type": "code",
   "execution_count": 32,
   "id": "5f31facd-4625-4f8d-ac11-b573678810de",
   "metadata": {},
   "outputs": [
    {
     "name": "stdout",
     "output_type": "stream",
     "text": [
      "{'Green', 'White'}\n"
     ]
    }
   ],
   "source": [
    "color1 = \"Red\", \"Green\", \"Orange\", \"White\"\n",
    "color2 = \"Black\", \"Green\", \"White\", \"Pink\"\n",
    "print(set(color1) & set(color2))"
   ]
  },
  {
   "cell_type": "code",
   "execution_count": null,
   "id": "460e3072-0bdd-4b95-b252-d516024c94d1",
   "metadata": {},
   "outputs": [],
   "source": [
    "Write a Python program to create a list by concatenating a given list with a\n",
    "range from 1 to n.\n",
    "INPUT : ['p', 'q'] and n =5"
   ]
  },
  {
   "cell_type": "code",
   "execution_count": 34,
   "id": "d4d39455-ff17-4c13-8ae8-2a47f1467d97",
   "metadata": {},
   "outputs": [
    {
     "name": "stdout",
     "output_type": "stream",
     "text": [
      "['p1', 'q1', 'p2', 'q2', 'p3', 'q3', 'p4', 'q4', 'p5', 'q5']\n"
     ]
    }
   ],
   "source": [
    "my_list = ['p', 'q']\n",
    "n = 5\n",
    "new_list = ['{}{}'.format(x, y) for y in range(1, n+1) for x in my_list]\n",
    "print(new_list)"
   ]
  },
  {
   "cell_type": "code",
   "execution_count": null,
   "id": "a4d80c12-e690-4804-a55b-774c526b9c48",
   "metadata": {},
   "outputs": [],
   "source": [
    "Write a Python program to convert a list of multiple integers into a single\n",
    "integer.\n",
    "INPUT: [11, 33, 50]"
   ]
  },
  {
   "cell_type": "code",
   "execution_count": 19,
   "id": "887524f6-5a76-4456-805f-436772c84f7f",
   "metadata": {},
   "outputs": [
    {
     "name": "stdout",
     "output_type": "stream",
     "text": [
      "11\n",
      "33\n",
      "50\n"
     ]
    }
   ],
   "source": [
    "a = [11,33,50]\n",
    "for i in a:\n",
    "    output =int(\"\".join (str(i)))\n",
    "    print(output)"
   ]
  },
  {
   "cell_type": "code",
   "execution_count": null,
   "id": "2f6d3d4e-c7f7-4112-9fb1-e9c19872e44c",
   "metadata": {},
   "outputs": [],
   "source": [
    "Write a Python program to split a list into different variables.\n",
    "INPUT: color = [(\"Black\", \"#000000\", \"rgb(0, 0, 0)\"), (\"Red\", \"#FF0000\", \"rgb(255,\n",
    "0, 0)\"), (\"Yellow\", \"#FFFF00\", \"rgb(255, 255, 0)\")]"
   ]
  },
  {
   "cell_type": "code",
   "execution_count": 47,
   "id": "414c2bc2-45de-424a-b61e-3898b5c3bf19",
   "metadata": {},
   "outputs": [
    {
     "name": "stdout",
     "output_type": "stream",
     "text": [
      "('Black', '#000000', 'rgb(0, 0, 0)')\n",
      "('Red', '#FF0000', 'rgb(255, 0, 0)')\n",
      "('Yellow', '#FFFF00', 'rgb(255, 255, 0)')\n"
     ]
    }
   ],
   "source": [
    "color = [(\"Black\", \"#000000\", \"rgb(0, 0, 0)\"), (\"Red\", \"#FF0000\", \"rgb(255, 0, 0)\"),\n",
    "         (\"Yellow\", \"#FFFF00\", \"rgb(255, 255, 0)\")]\n",
    "var1, var2, var3 = color\n",
    "print(var1)\n",
    "print(var2)\n",
    "print(var3)"
   ]
  },
  {
   "cell_type": "code",
   "execution_count": null,
   "id": "f97aae11-27b2-4a96-8eca-6f5a5832ab82",
   "metadata": {},
   "outputs": [],
   "source": [
    "Write a Python program to split a list every Nth element.\n",
    "INPUT: ['a', 'b', 'c', 'd', 'e', 'f', 'g', 'h', 'i', 'j', 'k', 'l', 'm', 'n'"
   ]
  },
  {
   "cell_type": "code",
   "execution_count": 49,
   "id": "d381c59f-fa2a-451f-9488-2ab76ed24e0e",
   "metadata": {},
   "outputs": [
    {
     "name": "stdout",
     "output_type": "stream",
     "text": [
      "[['a', 'd', 'g', 'j', 'm'], ['b', 'e', 'h', 'k', 'n'], ['c', 'f', 'i', 'l']]\n"
     ]
    }
   ],
   "source": [
    "X = ['a', 'b', 'c', 'd', 'e', 'f', 'g', 'h', 'i', 'j', 'k', 'l', 'm', 'n']\n",
    "def list_slice(S, step):\n",
    "    return [S[i::step] for i in range(step)]\n",
    "print(list_slice(X,3))"
   ]
  },
  {
   "cell_type": "code",
   "execution_count": null,
   "id": "406b12cb-c190-4ae9-b1cc-b9d7c5befd59",
   "metadata": {},
   "outputs": [],
   "source": [
    "Write a Python program to unpack a tuple into several variables.\n",
    "INPUT: (4,8,3)"
   ]
  },
  {
   "cell_type": "code",
   "execution_count": 53,
   "id": "b5608949-0237-4bde-9257-77b81e9e5670",
   "metadata": {},
   "outputs": [
    {
     "name": "stdout",
     "output_type": "stream",
     "text": [
      "(4, 8, 3)\n"
     ]
    }
   ],
   "source": [
    "tuple = 4, 8, 3 \n",
    "print(tuple)\n",
    "A1, A2, A3= tuple \n"
   ]
  },
  {
   "cell_type": "code",
   "execution_count": null,
   "id": "968122d1-4cb5-4b1e-a852-cef7ad6ef87b",
   "metadata": {},
   "outputs": [],
   "source": [
    "Write a Python program to check whether an element (5) exists within a tuple.\n",
    "INPUT: (\"w\", 3, \"r\", \"e\", \"s\", \"o\", \"u\", \"r\", \"c\", \"e\")"
   ]
  },
  {
   "cell_type": "code",
   "execution_count": 54,
   "id": "11fe6285-8e08-4c3f-aa26-e90ca9953713",
   "metadata": {},
   "outputs": [
    {
     "name": "stdout",
     "output_type": "stream",
     "text": [
      "False\n"
     ]
    }
   ],
   "source": [
    "tuple = (\"w\", 3, \"r\", \"e\", \"s\", \"o\", \"u\", \"r\", \"c\", \"e\")\n",
    "print(5 in tuple)"
   ]
  },
  {
   "cell_type": "code",
   "execution_count": null,
   "id": "191d59ef-e867-415f-839e-e786fb100e57",
   "metadata": {},
   "outputs": [],
   "source": [
    "Write a Python program to reverse a tuple.\n",
    "INPUT: (5,10,15,20)"
   ]
  },
  {
   "cell_type": "code",
   "execution_count": 3,
   "id": "74e7a65b-1c20-4bb9-bc3c-3f129309aa1c",
   "metadata": {},
   "outputs": [
    {
     "name": "stdout",
     "output_type": "stream",
     "text": [
      "(20, 15, 10, 5)\n"
     ]
    }
   ],
   "source": [
    "x= (5,10,15,20)\n",
    "y= list(x)\n",
    "y.reverse()\n",
    "Z=tuple (y)\n",
    "print (Z)\n"
   ]
  },
  {
   "cell_type": "code",
   "execution_count": 4,
   "id": "90c7d139-0883-465d-93bb-0b02e309cfa8",
   "metadata": {},
   "outputs": [
    {
     "ename": "SyntaxError",
     "evalue": "Missing parentheses in call to 'print'. Did you mean print(...)? (468691757.py, line 1)",
     "output_type": "error",
     "traceback": [
      "\u001b[1;36m  Cell \u001b[1;32mIn[4], line 1\u001b[1;36m\u001b[0m\n\u001b[1;33m    Write a Python program to print a tuple with string formatting.\u001b[0m\n\u001b[1;37m                              ^\u001b[0m\n\u001b[1;31mSyntaxError\u001b[0m\u001b[1;31m:\u001b[0m Missing parentheses in call to 'print'. Did you mean print(...)?\n"
     ]
    }
   ],
   "source": [
    "Write a Python program to print a tuple with string formatting.\n",
    "INPUT: (100, 200, 300)"
   ]
  },
  {
   "cell_type": "code",
   "execution_count": 5,
   "id": "eb58344e-1a57-4e7c-a1b6-ac8c29e2cc58",
   "metadata": {},
   "outputs": [
    {
     "name": "stdout",
     "output_type": "stream",
     "text": [
      "This is a tuple (100, 200, 300)\n"
     ]
    }
   ],
   "source": [
    "A = (100, 200, 300)\n",
    "print('This is a tuple {0}'.format(A))"
   ]
  },
  {
   "cell_type": "code",
   "execution_count": null,
   "id": "ae3a3c79-dfb5-473f-8076-0e83ed52869a",
   "metadata": {},
   "outputs": [],
   "source": [
    "Write a Python program to remove an empty tuple(s) from a list of tuples.\n",
    "INPUT: [(), (), ('',), ('a', 'b'), ('a', 'b', 'c'), ('d')]"
   ]
  },
  {
   "cell_type": "code",
   "execution_count": 66,
   "id": "f5a805b5-76d8-47b2-9d83-dde4505555a7",
   "metadata": {},
   "outputs": [
    {
     "name": "stdout",
     "output_type": "stream",
     "text": [
      "[('',), ('a', 'b'), ('a', 'b', 'c'), 'd']\n"
     ]
    }
   ],
   "source": [
    "X = [(), (), ('',), ('a', 'b'), ('a', 'b', 'c'), ('d')]\n",
    "X = [t for t in X if t]\n",
    "print(X)"
   ]
  },
  {
   "cell_type": "code",
   "execution_count": null,
   "id": "509b6ef6-7509-455d-9664-c880d73dcabf",
   "metadata": {},
   "outputs": [],
   "source": [
    "Write a Python program to convert a given string to a tuple.\n",
    "INPUT: “Shailja”\n"
   ]
  },
  {
   "cell_type": "code",
   "execution_count": 41,
   "id": "ebbabf67-6b38-4dc7-ad94-8101eca3574e",
   "metadata": {},
   "outputs": [
    {
     "name": "stdout",
     "output_type": "stream",
     "text": [
      "('S', 'h', 'a', 'i', 'l', 'j', 'a')\n"
     ]
    }
   ],
   "source": [
    "input_string = \"Shailja\"\n",
    "output_tuple = tuple(input_string)\n",
    "print(output_tuple)\n"
   ]
  },
  {
   "cell_type": "code",
   "execution_count": null,
   "id": "306912e3-93db-409d-b3b9-e2dbb7002716",
   "metadata": {},
   "outputs": [],
   "source": [
    ". Write a Python program to compute the element-wise sum of given tuples.\n",
    "INPUT:\n",
    "(1, 2, 3, 4)\n",
    "(3, 5, 2, 1)\n",
    "(2, 2, 3, 1)"
   ]
  },
  {
   "cell_type": "code",
   "execution_count": 5,
   "id": "026b4030-21b1-4a58-9f15-5a3187f12303",
   "metadata": {},
   "outputs": [
    {
     "name": "stdout",
     "output_type": "stream",
     "text": [
      "\n",
      "output:\n",
      "(6, 9, 8, 6)\n"
     ]
    }
   ],
   "source": [
    "x = (1,2,3,4)\n",
    "y = (3,5,2,1)\n",
    "z = (2,2,3,1)\n",
    "print(\"\\noutput:\")\n",
    "result = tuple(map(sum, zip(x, y, z)))\n",
    "print(result)"
   ]
  },
  {
   "cell_type": "code",
   "execution_count": null,
   "id": "3d9ebbc9-5735-4581-af41-21bec445f01b",
   "metadata": {},
   "outputs": [],
   "source": [
    "Write a Python program to convert a given list of tuples to a list of lists.\n",
    "Grow Data Skil s\n",
    "INPUT: [(1, 2), (2, 3), (3, 4)]"
   ]
  },
  {
   "cell_type": "code",
   "execution_count": 12,
   "id": "d22477b0-7a67-4db5-b97b-24ccd6688c5e",
   "metadata": {},
   "outputs": [
    {
     "name": "stdout",
     "output_type": "stream",
     "text": [
      "output:\n",
      "[[1, 2], [2, 3], [3, 4]]\n"
     ]
    }
   ],
   "source": [
    "def test(lst_tuples):\n",
    "    result = [list(el) for el in lst_tuples]\n",
    "    return result\n",
    "lst_tuples = [(1,2), (2,3), (3,4)]\n",
    "print(\"output:\")\n",
    "print(test(lst_tuples))"
   ]
  },
  {
   "cell_type": "code",
   "execution_count": null,
   "id": "e1346bb4-4756-4e43-b74f-15215b9cbc97",
   "metadata": {},
   "outputs": [],
   "source": [
    "Q. Write a Python program to remove an item from a set if it is present in the set.\n",
    "INPUT: 0, 1, 2, 3, 4, 5}\n"
   ]
  },
  {
   "cell_type": "code",
   "execution_count": 20,
   "id": "98a9968b-6a67-4299-9f35-c311d65b2f76",
   "metadata": {},
   "outputs": [
    {
     "name": "stdout",
     "output_type": "stream",
     "text": [
      "\n",
      "Remove 2 from the said set:\n",
      "{0, 1, 2, 3, 4, 5}\n",
      "\n",
      "Remove 7 from the said set:\n",
      "{0, 1, 2, 3, 4, 5}\n"
     ]
    }
   ],
   "source": [
    "num_set = set([0, 1, 2, 3, 4, 5])\n",
    "print(\"\\nRemove 2 from the said set:\")\n",
    "print(num_set)\n",
    "print(\"\\nRemove 7 from the said set:\")\n",
    "print(num_set)"
   ]
  },
  {
   "cell_type": "code",
   "execution_count": null,
   "id": "c491467c-9978-4f10-8717-88ba04209d88",
   "metadata": {},
   "outputs": [],
   "source": [
    "Write a Python program to check if a set is a subset of another set.\n",
    "INPUT:\n",
    "x: {'mango', 'apple'}\n",
    "y: {'mango', 'orange'}\n",
    "z: {'mango'}\n"
   ]
  },
  {
   "cell_type": "code",
   "execution_count": 26,
   "id": "72be8787-ee8f-4279-b4cf-e557677f9d21",
   "metadata": {},
   "outputs": [
    {
     "name": "stdout",
     "output_type": "stream",
     "text": [
      "OUTPUT:\n",
      "\n",
      "If x is subset of y\n",
      "False\n",
      "\n",
      "If y is subset of z\n",
      "False\n",
      "If z is subset of y\n",
      "True\n"
     ]
    }
   ],
   "source": [
    "print(\"OUTPUT:\\n\")\n",
    "setx = set([\"apple\", \"mango\"])\n",
    "sety = set([\"mango\", \"orange\"])\n",
    "setz = set([\"mango\"])\n",
    "print(\"If x is subset of y\")\n",
    "print(setx <= sety)\n",
    "print(\"\\nIf y is subset of z\")\n",
    "print(sety <= setz)\n",
    "print(\"If z is subset of y\")\n",
    "print(setz <= sety)\n",
    "\n"
   ]
  },
  {
   "cell_type": "code",
   "execution_count": null,
   "id": "3358db52-438e-4a7b-aeb2-ecb5cea384d7",
   "metadata": {},
   "outputs": [],
   "source": [
    "Write a Python program to remove all elements from a given set at once.\n",
    "INPUT: {'Green', 'Black', 'Red', 'White'}"
   ]
  },
  {
   "cell_type": "code",
   "execution_count": 31,
   "id": "7ef95e08-a03c-43d0-88c5-f3ddc76b0601",
   "metadata": {},
   "outputs": [
    {
     "name": "stdout",
     "output_type": "stream",
     "text": [
      "output:\n",
      "set()\n"
     ]
    }
   ],
   "source": [
    "setc = {\"Red\", \"Green\", \"Black\", \"White\"}\n",
    "print(\"output:\")\n",
    "setc.clear()\n",
    "print(setc)"
   ]
  },
  {
   "cell_type": "code",
   "execution_count": 36,
   "id": "f773065a-caa2-4dfb-9c3e-62a8b53acf5a",
   "metadata": {},
   "outputs": [
    {
     "name": "stdout",
     "output_type": "stream",
     "text": [
      "0utput:\n",
      "False\n"
     ]
    }
   ],
   "source": [
    "x = {1,2,3,4}\n",
    "y = {4,5,6,7}\n",
    "z = {8}\n",
    "print(\"0utput:\")\n",
    "print(x.isdisjoint(y))\n"
   ]
  },
  {
   "cell_type": "code",
   "execution_count": null,
   "id": "73fd923b-470e-4727-a490-b5e7cbeb18ae",
   "metadata": {},
   "outputs": [],
   "source": [
    "Write a Python program to check if a given value(10) is present in a set or not.\n",
    "INPUT:{1, 3, 5, 7, 9, 11}"
   ]
  },
  {
   "cell_type": "code",
   "execution_count": 54,
   "id": "e2604d28-6d31-4989-b344-873bc80496a1",
   "metadata": {},
   "outputs": [
    {
     "name": "stdout",
     "output_type": "stream",
     "text": [
      "Test if 10 is in set\n",
      "False\n"
     ]
    }
   ],
   "source": [
    "set = {1, 3, 5, 7, 9, 11}\n",
    "print(\"Test if 10 is in set\")\n",
    "print(10 in set)"
   ]
  },
  {
   "cell_type": "code",
   "execution_count": null,
   "id": "c26a2119-f3d8-4db7-95f7-f8542358192a",
   "metadata": {},
   "outputs": [],
   "source": [
    "Q. Write a Python program to remove all duplicates from a given list of strings\n",
    "and return a list of unique strings. Use the Python set data type.\n",
    "INPUT: ['Python', 'Exercises', 'Practice', 'Solution', 'Exercises']"
   ]
  },
  {
   "cell_type": "code",
   "execution_count": 56,
   "id": "e9ace616-f940-49e9-9f64-1cc376457872",
   "metadata": {},
   "outputs": [
    {
     "name": "stdout",
     "output_type": "stream",
     "text": [
      "['Python', 'Exercises', 'Practice', 'Solution']\n"
     ]
    }
   ],
   "source": [
    "mylist = ['Python', 'Exercises', 'Practice', 'Solution', 'Exercises']\n",
    "mylist = list(dict.fromkeys(mylist))\n",
    "print(mylist)"
   ]
  },
  {
   "cell_type": "code",
   "execution_count": null,
   "id": "c86dea3c-0133-49cb-a065-783948b32adf",
   "metadata": {},
   "outputs": [],
   "source": [
    ". Write a Python script to add a key to a dictionary.\n",
    "Input: 0: 10, 1: 20}\n",
    "Output: {0: 10, 1: 20, 2: 30}"
   ]
  },
  {
   "cell_type": "code",
   "execution_count": 3,
   "id": "7454803d-60eb-44dc-96cb-b5eea58a6cc6",
   "metadata": {},
   "outputs": [
    {
     "name": "stdout",
     "output_type": "stream",
     "text": [
      "{0: 10, 1: 20, 2: 30}\n"
     ]
    }
   ],
   "source": [
    "d = {0:10, 1:20}\n",
    "d.update({2:30})\n",
    "print(d)"
   ]
  },
  {
   "cell_type": "code",
   "execution_count": null,
   "id": "f33988f7-0224-48d7-ad4a-3509a44f5873",
   "metadata": {},
   "outputs": [],
   "source": [
    "Write a Python script to concatenate the following dictionaries to create a\n",
    "new one.\n",
    "Input:\n",
    "dic1= {1:10, 2:20}\n",
    "dic2= {3:30, 4:40}\n",
    "dic3={5:50,6:60}"
   ]
  },
  {
   "cell_type": "code",
   "execution_count": 4,
   "id": "42453aff-4b7c-4a77-be7e-2783d03a3d7e",
   "metadata": {},
   "outputs": [
    {
     "name": "stdout",
     "output_type": "stream",
     "text": [
      "{1: 10, 2: 20, 3: 30, 4: 40, 5: 50, 6: 60}\n"
     ]
    }
   ],
   "source": [
    "dic1={1:10, 2:20}\n",
    "dic2={3:30, 4:40}\n",
    "dic3={5:50,6:60}\n",
    "dic4 = {}\n",
    "for d in (dic1, dic2, dic3): dic4.update(d)\n",
    "print(dic4)"
   ]
  },
  {
   "cell_type": "code",
   "execution_count": null,
   "id": "4a892123-d820-4602-a188-68c6d32893e7",
   "metadata": {},
   "outputs": [],
   "source": [
    ". Write a Python script to check whether a given key (10) already exists in a\n",
    "dictionary.\n",
    "Input: 1: 10, 2: 20, 3: 30, 4: 40, 5: 50, 6: 60}\n",
    "Output:” Key 10 is not present in the dictionary”"
   ]
  },
  {
   "cell_type": "code",
   "execution_count": 16,
   "id": "6570a87d-b912-4c41-a3fc-38e4e0ac75c5",
   "metadata": {},
   "outputs": [
    {
     "name": "stdout",
     "output_type": "stream",
     "text": [
      "Key 10 is not present in the dictionary\n"
     ]
    }
   ],
   "source": [
    "d = {1: 10, 2: 20, 3: 30, 4: 40, 5: 50, 6: 60}\n",
    "def is_key_present(x):\n",
    "  if x in d:\n",
    "      print('Key 10 is present in the dictionary')\n",
    "  else:\n",
    "      print(\"Key 10 is not present in the dictionary\")\n",
    "\n",
    "is_key_present(10)"
   ]
  },
  {
   "cell_type": "code",
   "execution_count": null,
   "id": "b5708617-601d-4abc-97e8-819b9f805ff9",
   "metadata": {},
   "outputs": [],
   "source": [
    "Write a Python program to remove a key(age) from a dictionary.\n",
    "Input:\n",
    "'name': 'John Doe',\n",
    "'age': 30,\n",
    "'occupation': 'Software Engineer',\n",
    "'email': 'john@example.com',\n",
    "'is_employed': True"
   ]
  },
  {
   "cell_type": "code",
   "execution_count": 17,
   "id": "2f13582b-c8e7-4652-bed4-d9d7e66b8ac4",
   "metadata": {},
   "outputs": [
    {
     "name": "stdout",
     "output_type": "stream",
     "text": [
      "{'name': 'John Doe', 'occupation': 'Software Engineer', 'email': 'john@example.com', 'is_employed': True}\n"
     ]
    }
   ],
   "source": [
    "input_dict = {\n",
    "'name': 'John Doe',\n",
    "'age': 30,\n",
    "'occupation': 'Software Engineer',\n",
    "'email': 'john@example.com',\n",
    "'is_employed': True\n",
    "}\n",
    "key_to_remove = 'age'\n",
    "del input_dict[key_to_remove]\n",
    "print(input_dict)"
   ]
  },
  {
   "cell_type": "code",
   "execution_count": null,
   "id": "ed6986fb-9e37-4da8-885d-bce118c48ab9",
   "metadata": {},
   "outputs": [],
   "source": [
    "Write a Python program to remove duplicates from the dictionary.\n",
    "Input: {'a': 1, 'b': 2, 'c': 1, 'd': 3, 'e': 2, 'f': 4}\n",
    "Output: {'a': 1, 'b': 2, 'd': 3, 'f': 4}"
   ]
  },
  {
   "cell_type": "code",
   "execution_count": 19,
   "id": "18b9fc12-e5d6-4dfa-b510-0dd90e271bbe",
   "metadata": {},
   "outputs": [
    {
     "name": "stdout",
     "output_type": "stream",
     "text": [
      "{'a': 1, 'b': 2, 'd': 3, 'f': 4}\n"
     ]
    }
   ],
   "source": [
    "dict1 = {'a': 1, 'b': 2, 'c': 1, 'd': 3, 'e': 2, 'f': 4}\n",
    "\n",
    "temp = []\n",
    "res = dict()\n",
    "for key, val in dict1.items():\n",
    "    if val not in temp:\n",
    "        temp.append(val)\n",
    "        res[key] = val\n",
    "\n",
    "print(res)"
   ]
  },
  {
   "cell_type": "code",
   "execution_count": null,
   "id": "f5ceb307-9b53-4e8d-83ea-fd0f473a4d86",
   "metadata": {},
   "outputs": [],
   "source": [
    "Write a Python program to get the maximum and minimum values of a\n",
    "dictionary.\n",
    "Input: {‘u’:1000,’v’:3000,'x':500, 'y':5874, 'z': 560}\n",
    "Output:"
   ]
  },
  {
   "cell_type": "code",
   "execution_count": 23,
   "id": "9945e645-d87c-4e63-baa8-f35ba250178d",
   "metadata": {},
   "outputs": [
    {
     "name": "stdout",
     "output_type": "stream",
     "text": [
      "Maximum Value: 5874\n",
      "Minimum Value: 500\n"
     ]
    }
   ],
   "source": [
    "input_dict = {'u': 1000, 'v': 3000, 'x': 500, 'y': 5874, 'z': 560}\n",
    "max_value = max(input_dict.values())\n",
    "min_value = min(input_dict.values())\n",
    "print(\"Maximum Value:\", max_value)\n",
    "print(\"Minimum Value:\", min_value)"
   ]
  },
  {
   "cell_type": "code",
   "execution_count": null,
   "id": "bb9c8f33-f5a7-47a7-9d52-4d0c2380f627",
   "metadata": {},
   "outputs": [],
   "source": [
    "Write a Python program to check if a dictionary is empty or not.\n",
    "Input: my_dict = {}"
   ]
  },
  {
   "cell_type": "code",
   "execution_count": 28,
   "id": "8a5376d8-a61e-4fff-9def-42c17bc05f07",
   "metadata": {},
   "outputs": [
    {
     "name": "stdout",
     "output_type": "stream",
     "text": [
      "Dictionary is empty\n"
     ]
    }
   ],
   "source": [
    "my_dict = {}\n",
    "if not (my_dict):\n",
    "    print(\"Dictionary is empty\")\n"
   ]
  },
  {
   "cell_type": "code",
   "execution_count": null,
   "id": "103ef939-899b-435a-9656-297e5d20fe72",
   "metadata": {},
   "outputs": [],
   "source": [
    "Write a Python program to create a dictionary of keys x, y, and z where each\n",
    "key has as value a list from 11-20, 21-30, and 31-40 respectively. Access the\n",
    "fifth value of each key from the dictionary.\n",
    "Input:\n",
    "{'x': [11, 12, 13, 14, 15, 16, 17, 18, 19],\n",
    "'y': [21, 22, 23, 24, 25, 26, 27, 28, 29],\n",
    "'z': [31, 32, 33, 34, 35, 36, 37, 38, 39]}"
   ]
  },
  {
   "cell_type": "code",
   "execution_count": 33,
   "id": "076ff206-dcee-47bd-8877-7dbdde1d5911",
   "metadata": {},
   "outputs": [
    {
     "name": "stdout",
     "output_type": "stream",
     "text": [
      "15\n",
      "25\n",
      "35\n"
     ]
    }
   ],
   "source": [
    "input_dict = {'x': [11, 12, 13, 14, 15, 16, 17, 18, 19],\n",
    "'y': [21, 22, 23, 24, 25, 26, 27, 28, 29],\n",
    "'z': [31, 32, 33, 34, 35, 36, 37, 38, 39]}\n",
    "value_x = input_dict['x'][4]\n",
    "value_y = input_dict['y'][4]\n",
    "value_z = input_dict['z'][4]\n",
    "print(value_x)\n",
    "print(value_y)\n",
    "print(value_z)"
   ]
  },
  {
   "cell_type": "code",
   "execution_count": null,
   "id": "c7ac29a4-5ea5-4dee-801f-2669c57d668c",
   "metadata": {},
   "outputs": [],
   "source": [
    "Write a Python program to drop empty items from a given dictionary.\n",
    "Input: {'c1': 'Red', 'c2': 'Green', 'c3': None}\n",
    "Output: {'c1': 'Red', 'c2': 'Green'}"
   ]
  },
  {
   "cell_type": "code",
   "execution_count": 35,
   "id": "2296dcf1-722a-4361-a26a-53d02ffa13bc",
   "metadata": {},
   "outputs": [
    {
     "name": "stdout",
     "output_type": "stream",
     "text": [
      "{'c1': 'Red', 'c2': 'Green'}\n"
     ]
    }
   ],
   "source": [
    "i_d = {'c1': 'Red', 'c2': 'Green', 'c3': None}\n",
    "o_d = {key: value for key, value in i_d.items() if value is not None}\n",
    "print(o_d)"
   ]
  },
  {
   "cell_type": "code",
   "execution_count": null,
   "id": "293fec9c-1f24-4a16-ad11-0334105cb1f6",
   "metadata": {},
   "outputs": [],
   "source": [
    "Write a Python program to filter a dictionary based on values>170\n",
    "Input : {'Cierra Vega': 175, 'Alden Cantrell': 180, 'Kierra Gentry': 165, 'Pierre Cox':\n",
    "190}"
   ]
  },
  {
   "cell_type": "code",
   "execution_count": 37,
   "id": "e1d18d6e-7bef-4ce7-947d-f882b5163fe1",
   "metadata": {},
   "outputs": [
    {
     "name": "stdout",
     "output_type": "stream",
     "text": [
      "{'Cierra Vega': 175, 'Alden Cantrell': 180, 'Pierre Cox': 190}\n"
     ]
    }
   ],
   "source": [
    "i_d = {'Cierra Vega': 175, 'Alden Cantrell': 180, 'Kierra Gentry': 165, 'Pierre Cox': 190}\n",
    "o_d = {key: value for key, value in i_d.items() if value > 170}\n",
    "print(o_d)"
   ]
  },
  {
   "cell_type": "code",
   "execution_count": null,
   "id": "52699a8d-e5f0-40f9-8122-a34290807c6e",
   "metadata": {},
   "outputs": [],
   "source": [
    "Write a Python program to verify that all values in a dictionary are the\n",
    "same(Interview Question)\n",
    "Input: {'Cierra Vega': 12, 'Alden Cantrell': 12, 'Kierra Gentry': 12, 'Pierre Cox': 12}\n",
    "Output: “ All values are 12”"
   ]
  },
  {
   "cell_type": "code",
   "execution_count": 41,
   "id": "43d51480-1056-474f-bba0-d8e71bbbee91",
   "metadata": {},
   "outputs": [
    {
     "name": "stdout",
     "output_type": "stream",
     "text": [
      "All values are 12\n"
     ]
    }
   ],
   "source": [
    "input_dict = {'Cierra Vega': 12, 'Alden Cantrell': 12, 'Kierra Gentry': 12, 'Pierre Cox': 12}\n",
    "if len(set(input_dict.values())) == 1:\n",
    "    print(\"All values are\", list(set(input_dict.values()))[0])\n",
    "else:print(\"Values are not the same\")\n"
   ]
  },
  {
   "cell_type": "code",
   "execution_count": null,
   "id": "3616c7ce-e64c-4cc1-9dbc-d36743ebfb1a",
   "metadata": {},
   "outputs": [],
   "source": [
    "Question   Write a Python program to convert string values of a given dictionary into\n",
    "integer/float datatypes.\n",
    "INPUT:\n",
    "[{'x': '10', 'y': '20', 'z': '30'}, {'p': '40', 'q': '50', 'r': '60'}]"
   ]
  },
  {
   "cell_type": "code",
   "execution_count": null,
   "id": "b3343484-a068-4450-824e-f2d829b1d64b",
   "metadata": {},
   "outputs": [],
   "source": [
    "output "
   ]
  },
  {
   "cell_type": "code",
   "execution_count": 4,
   "id": "7f743b84-9b00-4dd0-a867-48946e27bf8f",
   "metadata": {},
   "outputs": [
    {
     "name": "stdout",
     "output_type": "stream",
     "text": [
      "String values of a given dictionary, into integer types:\n",
      "[{'x': 10, 'y': 20, 'z': 30}, {'p': 40, 'q': 50, 'r': 60}]\n",
      "String values of a given dictionary, into float types:\n",
      "[{'x': 10.0, 'y': 20.0, 'z': 30.0}, {'p': 40.0, 'q': 50.0, 'r': 60.0}]\n"
     ]
    }
   ],
   "source": [
    "input_list = [{'x': '10', 'y': '20', 'z': '30'}, {'p': '40', 'q': '50', 'r': '60'}]\n",
    "output_int_list = [{key: int(value) for key, value in d.items()} for d in input_list]\n",
    "output_float_list = [{key: float(value) for key, value in d.items()} for d in input_list]\n",
    "print(\"String values of a given dictionary, into integer types:\")\n",
    "print(output_int_list)\n",
    "print(\"String values of a given dictionary, into float types:\")\n",
    "print(output_float_list)\n"
   ]
  },
  {
   "cell_type": "code",
   "execution_count": 2,
   "id": "a52a8332-2da5-4857-b90f-b5c288d05857",
   "metadata": {},
   "outputs": [
    {
     "ename": "SyntaxError",
     "evalue": "invalid syntax (939349037.py, line 1)",
     "output_type": "error",
     "traceback": [
      "\u001b[1;36m  Cell \u001b[1;32mIn[2], line 1\u001b[1;36m\u001b[0m\n\u001b[1;33m    Actual Output\u001b[0m\n\u001b[1;37m           ^\u001b[0m\n\u001b[1;31mSyntaxError\u001b[0m\u001b[1;31m:\u001b[0m invalid syntax\n"
     ]
    }
   ],
   "source": [
    "Actual Output"
   ]
  },
  {
   "cell_type": "code",
   "execution_count": 3,
   "id": "4381db46-cd03-4dbf-ae21-502104b03b89",
   "metadata": {},
   "outputs": [
    {
     "ename": "SyntaxError",
     "evalue": "invalid syntax (3468303255.py, line 1)",
     "output_type": "error",
     "traceback": [
      "\u001b[1;36m  Cell \u001b[1;32mIn[3], line 1\u001b[1;36m\u001b[0m\n\u001b[1;33m    String values of a given dictionary, into integer types:\u001b[0m\n\u001b[1;37m           ^\u001b[0m\n\u001b[1;31mSyntaxError\u001b[0m\u001b[1;31m:\u001b[0m invalid syntax\n"
     ]
    }
   ],
   "source": [
    "String values of a given dictionary, into integer types:\n",
    "[{'x': 10, 'y': 20, 'z': 30}, {'p': 40, 'q': 50, 'r': 60}]\n",
    "String values of a given dictionary, into float types:\n",
    "[{'x': 10.12, 'y': 20.23, 'z': 30.0}, {'p': 40.0, 'q': 50.19, 'r': 60.99}]"
   ]
  },
  {
   "cell_type": "code",
   "execution_count": null,
   "id": "86624596-d4fa-40d9-85bf-207b53cd128f",
   "metadata": {},
   "outputs": [],
   "source": [
    "Q. Write a Python program to filter even numbers from a dictionary of values.\n",
    "INPUT: {'V': [1, 4, 6, 10], 'VI': [1, 4, 12], 'VII': [1, 3, 8]}\n",
    "OUTPUT:{'V': [4, 6, 10], 'VI': [4, 12], 'VII': [8]}"
   ]
  },
  {
   "cell_type": "code",
   "execution_count": 50,
   "id": "88d2f5f5-9825-40ab-8785-7d448a60a666",
   "metadata": {},
   "outputs": [
    {
     "name": "stdout",
     "output_type": "stream",
     "text": [
      "{'V': [4, 6, 10], 'VI': [4, 12], 'VII': [8]}\n"
     ]
    }
   ],
   "source": [
    "input_dict = {'V': [1, 4, 6, 10], 'VI': [1, 4, 12], 'VII': [1, 3, 8]}\n",
    "output_dict = {key: [num for num in value if num % 2 == 0] for key, value in\n",
    "input_dict.items()}\n",
    "print(output_dict)"
   ]
  },
  {
   "cell_type": "code",
   "execution_count": null,
   "id": "70267836-bdd9-401f-b61f-e74061ebc7a1",
   "metadata": {},
   "outputs": [],
   "source": [
    "Q. Write a Python program to count the number of characters (character\n",
    "frequency) in a string.\n",
    "INPUT: google.com\n",
    "OUTPUT: {'g': 2, 'o': 3, 'l': 1, 'e': 1, '.': 1, 'c': 1, 'm': 1}"
   ]
  },
  {
   "cell_type": "code",
   "execution_count": 7,
   "id": "b37af61f-c42e-47dd-bf09-b184b2969a38",
   "metadata": {},
   "outputs": [
    {
     "name": "stdout",
     "output_type": "stream",
     "text": [
      "{'g': 2, 'o': 3, 'l': 1, 'e': 1, '.': 1, 'c': 1, 'm': 1}\n"
     ]
    }
   ],
   "source": [
    "def char_frequency(str1):\n",
    "    dict = {}\n",
    "    for n in str1:\n",
    "        keys = dict.keys()\n",
    "        if n in keys:\n",
    "            dict[n] += 1\n",
    "        else:\n",
    "            dict[n] = 1\n",
    "    return dict\n",
    "print(char_frequency('google.com'))"
   ]
  },
  {
   "cell_type": "code",
   "execution_count": null,
   "id": "dbb2fc55-d487-4ff4-a131-57fd04778a85",
   "metadata": {},
   "outputs": [],
   "source": [
    "Write a Python program to get a string made of the first 2 and last 2\n",
    "characters of a given string. If the string length is less than 2, return the empty\n",
    "string instead.\n",
    "INPUT: 'w3resource'\n",
    "OUTPUT : 'w3ce'\n",
    "INPUT: 'w3'\n",
    "OUTPUT: 'w3w3'"
   ]
  },
  {
   "cell_type": "code",
   "execution_count": 10,
   "id": "cb27f5c4-da02-4e62-862a-d4e3fee0297c",
   "metadata": {},
   "outputs": [
    {
     "name": "stdout",
     "output_type": "stream",
     "text": [
      "w3ce\n",
      "w3w3\n",
      "\n"
     ]
    }
   ],
   "source": [
    "input_string = 'w3resource'\n",
    "output_string = input_string[:2] + input_string[-2:] if len(input_string) >= 2 else ''\n",
    "print(string_both_ends('w3resource'))\n",
    "print(string_both_ends('w3'))\n",
    "print(string_both_ends('w'))\n"
   ]
  },
  {
   "cell_type": "code",
   "execution_count": null,
   "id": "bf5706a4-ebd7-4f24-8705-4631b31b94f7",
   "metadata": {},
   "outputs": [],
   "source": [
    "Q. Write a Python program to remove the 5\n",
    "th\n",
    "index character from a nonempty\n",
    "string.\n",
    "INPUT:’Python’\n",
    "OUTPUT: Pytho"
   ]
  },
  {
   "cell_type": "code",
   "execution_count": 15,
   "id": "2abfafa2-d696-415f-8887-b7ee146a7724",
   "metadata": {},
   "outputs": [
    {
     "name": "stdout",
     "output_type": "stream",
     "text": [
      "Pytho\n"
     ]
    }
   ],
   "source": [
    "def remove_char(str, n):\n",
    "      first_part = str[:n] \n",
    "      last_part = str[n+1:]\n",
    "      return first_part + last_part\n",
    "print(remove_char('Python', 5))"
   ]
  },
  {
   "cell_type": "code",
   "execution_count": null,
   "id": "35615ce9-a889-490f-9c57-298c42bc2c6a",
   "metadata": {},
   "outputs": [],
   "source": [
    "Q. Write a Python program to count the occurrences of each word in a given\n",
    "sentence.\n",
    "INPUT: ‘the quick brown fox jumps over the lazy dog.’\n",
    "OUTPUT: {'the': 2, 'jumps': 1, 'brown': 1, 'lazy': 1, 'fox': 1, 'over': 1, 'quick': 1,\n",
    "'dog.': 1}"
   ]
  },
  {
   "cell_type": "code",
   "execution_count": 27,
   "id": "56b65996-09a0-4418-ae08-56e3ce31561a",
   "metadata": {},
   "outputs": [
    {
     "name": "stdout",
     "output_type": "stream",
     "text": [
      "{'the': 2, 'quick': 1, 'brown': 1, 'fox': 1, 'jumps': 1, 'over': 1, 'lazy': 1, 'dog.': 1}\n"
     ]
    }
   ],
   "source": [
    "def word_count(str):\n",
    "    counts = dict()\n",
    "    words = str.split()\n",
    "\n",
    "    for word in words:\n",
    "        if word in counts:\n",
    "            counts[word] += 1\n",
    "        else:\n",
    "            counts[word] = 1\n",
    "\n",
    "    return counts\n",
    "\n",
    "print( word_count('the quick brown fox jumps over the lazy dog.'))"
   ]
  },
  {
   "cell_type": "code",
   "execution_count": null,
   "id": "0d544201-b43e-4cb5-8243-e0ed70e5fce2",
   "metadata": {},
   "outputs": [],
   "source": [
    ". Write a Python function to insert a string in the middle of a string.\n",
    "Grow Data Skil s\n",
    "INPUT: '[[]]', 'Python')\n",
    "OUTPUT: [[Python]]\n"
   ]
  },
  {
   "cell_type": "code",
   "execution_count": 34,
   "id": "94c0735b-c106-45f8-8215-8fd5e99b5a30",
   "metadata": {},
   "outputs": [
    {
     "name": "stdout",
     "output_type": "stream",
     "text": [
      "[[Python]]\n"
     ]
    }
   ],
   "source": [
    "original = '[[]]'\n",
    "to_insert = 'Python'\n",
    "middle_index = len(original) // 2\n",
    "output_string = original[:middle_index] + to_insert + original[middle_index:]\n",
    "print(output_string)"
   ]
  },
  {
   "cell_type": "code",
   "execution_count": null,
   "id": "dd2d5611-a72a-4f9e-b9a9-412218638a53",
   "metadata": {},
   "outputs": [],
   "source": [
    "Q. Write a Python function to reverse a string if its length is a multiple of 4.\n",
    "INPUT:’python’\n",
    "OUTPUT:’nohtyp’\n"
   ]
  },
  {
   "cell_type": "code",
   "execution_count": null,
   "id": "098693b1-b44f-4d03-9ead-e7d3184cc602",
   "metadata": {},
   "outputs": [],
   "source": [
    "Output"
   ]
  },
  {
   "cell_type": "code",
   "execution_count": 41,
   "id": "c0c73d7b-22dd-43c7-8e0f-79954848c1eb",
   "metadata": {},
   "outputs": [
    {
     "name": "stdout",
     "output_type": "stream",
     "text": [
      "python\n"
     ]
    }
   ],
   "source": [
    "def reverse_string_if_length_multiple_of_4(input_string):\n",
    "    if len(input_string) % 4 == 0:\n",
    "        return input_string[::-1]\n",
    "    else:\n",
    "        return input_string\n",
    "        input_string = 'python'\n",
    "output_string = reverse_string_if_length_multiple_of_4(input_string)\n",
    "print(output_string)"
   ]
  },
  {
   "cell_type": "code",
   "execution_count": null,
   "id": "1a3d1880-7d97-4510-a216-9382aff7138a",
   "metadata": {},
   "outputs": [],
   "source": [
    "actual output: nohtyp"
   ]
  },
  {
   "cell_type": "code",
   "execution_count": null,
   "id": "691d4544-3b24-4ee6-99e8-ee71de32695d",
   "metadata": {},
   "outputs": [],
   "source": [
    "Q. Write a Python program to check whether a string starts with specified\n",
    "characters (grow)\n",
    "INPUT:” growdataskills”"
   ]
  },
  {
   "cell_type": "code",
   "execution_count": 46,
   "id": "ee0faa0b-a0f6-4353-8cc7-d4fcdf09b650",
   "metadata": {},
   "outputs": [
    {
     "name": "stdout",
     "output_type": "stream",
     "text": [
      "True\n"
     ]
    }
   ],
   "source": [
    "input_string = \"growdataskills\"\n",
    "specified_characters = \"grow\"\n",
    "print(input_string.startswith(specified_characters))"
   ]
  },
  {
   "cell_type": "code",
   "execution_count": null,
   "id": "7b2d2242-d7c7-4349-ad7f-a4595ddee1c3",
   "metadata": {},
   "outputs": [],
   "source": [
    "Write a Python program to reverse words in a string.\n",
    "INPUT: \"The quick brown fox jumps over the lazy dog.\"\n",
    "OUPUT: “dog. lazy the over jumps fox brown quick The”\n"
   ]
  },
  {
   "cell_type": "code",
   "execution_count": 49,
   "id": "5fe3dded-4738-4ce5-8809-2d2f1a911c80",
   "metadata": {},
   "outputs": [
    {
     "name": "stdout",
     "output_type": "stream",
     "text": [
      "dog. lazy the over jumps fox brown quick The\n"
     ]
    }
   ],
   "source": [
    "input_string = \"The quick brown fox jumps over the lazy dog.\"\n",
    "words = input_string.split()\n",
    "output_string = ' '.join(reversed(words))\n",
    "print(output_string)"
   ]
  },
  {
   "cell_type": "code",
   "execution_count": null,
   "id": "cfe3e614-af09-4533-a3b6-226ac953a1fb",
   "metadata": {},
   "outputs": [],
   "source": [
    "Write a Python program to check whether a string contains all letters of the\n",
    "alphabet(Interview Question).\n",
    "INPUT: 'The quick brown fox jumps over the lazy cat"
   ]
  },
  {
   "cell_type": "code",
   "execution_count": 50,
   "id": "4da32178-34a6-4c57-bd8b-34c38ba98151",
   "metadata": {},
   "outputs": [
    {
     "name": "stdout",
     "output_type": "stream",
     "text": [
      "False\n"
     ]
    }
   ],
   "source": [
    "input_string = 'The quick brown fox jumps over the lazy cat'\n",
    "alphabet = set('abcdefghijklmnopqrstuvwxyz')\n",
    "output_bool = set(input_string.lower()) >= alphabet\n",
    "print(output_bool)"
   ]
  },
  {
   "cell_type": "code",
   "execution_count": null,
   "id": "3f0980ec-d6c3-4ff0-9664-ea479b294c5c",
   "metadata": {},
   "outputs": [],
   "source": [
    "Write a Python program to count and display vowels in text.\n",
    "INPUT: resource\n"
   ]
  },
  {
   "cell_type": "code",
   "execution_count": 51,
   "id": "aae00f23-3e2c-4512-aebb-4df40ff381ca",
   "metadata": {},
   "outputs": [
    {
     "name": "stdout",
     "output_type": "stream",
     "text": [
      "4 -> ['e', 'o', 'u', 'e']\n"
     ]
    }
   ],
   "source": [
    "input_string = 'resource'\n",
    "vowels = 'aeiou'\n",
    "vowel_count = sum(char in vowels for char in input_string)\n",
    "vowel_list = [char for char in input_string if char in vowels]\n",
    "print(vowel_count, '->', vowel_list)\n"
   ]
  },
  {
   "cell_type": "code",
   "execution_count": null,
   "id": "c6d2bc4f-8ce7-4ef6-b7be-59d740badeb6",
   "metadata": {},
   "outputs": [],
   "source": []
  },
  {
   "cell_type": "code",
   "execution_count": null,
   "id": "29749b44-fda4-450e-8993-b6acd76bfcd0",
   "metadata": {},
   "outputs": [],
   "source": []
  },
  {
   "cell_type": "code",
   "execution_count": null,
   "id": "b71e2223-eb5e-4a91-a351-d1fe6d36efd7",
   "metadata": {},
   "outputs": [],
   "source": []
  },
  {
   "cell_type": "code",
   "execution_count": null,
   "id": "d8288a55-5a8c-4c16-be98-a7d28c2a5632",
   "metadata": {},
   "outputs": [],
   "source": []
  },
  {
   "cell_type": "code",
   "execution_count": null,
   "id": "edbe5d6d-7734-485c-ab38-44334bb2e10d",
   "metadata": {},
   "outputs": [],
   "source": []
  }
 ],
 "metadata": {
  "kernelspec": {
   "display_name": "Python 3 (ipykernel)",
   "language": "python",
   "name": "python3"
  },
  "language_info": {
   "codemirror_mode": {
    "name": "ipython",
    "version": 3
   },
   "file_extension": ".py",
   "mimetype": "text/x-python",
   "name": "python",
   "nbconvert_exporter": "python",
   "pygments_lexer": "ipython3",
   "version": "3.11.4"
  }
 },
 "nbformat": 4,
 "nbformat_minor": 5
}
