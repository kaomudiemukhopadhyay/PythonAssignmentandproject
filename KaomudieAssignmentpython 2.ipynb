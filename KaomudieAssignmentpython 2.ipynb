{
 "cells": [
  {
   "cell_type": "code",
   "execution_count": null,
   "id": "99ae57ac-f697-4559-9732-823bf74f1da9",
   "metadata": {},
   "outputs": [],
   "source": [
    ". Write a Python program to find those numbers which are divisible by 7 and\n",
    "multiples of 5, between 1500 and 2700 (both included).\n",
    "Output:\n",
    "1505,1540,1575,1610,1645,1680,1715,1750,1785,1820,1855,1890,1925,1960,1\n",
    "995,2030,2065,2100,2135,2170,2205,2240,2275,2310,2345,2380,2415,2450,24\n",
    "85,2520,2555,2590,2625,2660,2695"
   ]
  },
  {
   "cell_type": "code",
   "execution_count": 1,
   "id": "8e5d6d9f-f09e-4842-9c56-876d5eb14dec",
   "metadata": {},
   "outputs": [
    {
     "name": "stdout",
     "output_type": "stream",
     "text": [
      "1505,1540,1575,1610,1645,1680,1715,1750,1785,1820,1855,1890,1925,1960,1995,2030,2065,2100,2135,2170,2205,2240,2275,2310,2345,2380,2415,2450,2485,2520,2555,2590,2625,2660,2695\n"
     ]
    }
   ],
   "source": [
    "nl=[]\n",
    "for x in range(1500, 2701):\n",
    "    if (x%7==0) and (x%5==0):\n",
    "        nl.append(str(x))\n",
    "print (','.join(nl))"
   ]
  },
  {
   "cell_type": "code",
   "execution_count": 30,
   "id": "6f637b89-8bef-40d9-8ba7-310206dfaac5",
   "metadata": {},
   "outputs": [
    {
     "ename": "SyntaxError",
     "evalue": "invalid syntax (3772188864.py, line 1)",
     "output_type": "error",
     "traceback": [
      "\u001b[1;36m  Cell \u001b[1;32mIn[30], line 1\u001b[1;36m\u001b[0m\n\u001b[1;33m    2. Write a Python program that accepts a word from the user and reverses it.\u001b[0m\n\u001b[1;37m       ^\u001b[0m\n\u001b[1;31mSyntaxError\u001b[0m\u001b[1;31m:\u001b[0m invalid syntax\n"
     ]
    }
   ],
   "source": [
    "2. Write a Python program that accepts a word from the user and reverses it.\n",
    "INPUT: Input a word to reverse: Shailja\n",
    "OUTPUT: ajliahS"
   ]
  },
  {
   "cell_type": "code",
   "execution_count": 31,
   "id": "2e2c781a-e831-4d7a-b5e6-45e3920b3936",
   "metadata": {},
   "outputs": [
    {
     "name": "stdin",
     "output_type": "stream",
     "text": [
      "Input a word to reverse:  Shailja\n"
     ]
    },
    {
     "name": "stdout",
     "output_type": "stream",
     "text": [
      "ajliahS\n",
      "\n"
     ]
    }
   ],
   "source": [
    "word = input(\"Input a word to reverse: \")\n",
    "\n",
    "for char in range(len(word) - 1, -1, -1):\n",
    "    print(word[char], end=\"\")\n",
    "\n",
    "print(\"\\n\")\n"
   ]
  },
  {
   "cell_type": "code",
   "execution_count": null,
   "id": "7a9cfc67-21e1-436c-8db0-25e1fee08433",
   "metadata": {},
   "outputs": [],
   "source": [
    "Write a Python program that prints all the numbers from 0 to 6 except 3 and\n",
    "6. Note : Use 'continue' statement.\n",
    "Expected Output : 0 1 2 4 5"
   ]
  },
  {
   "cell_type": "code",
   "execution_count": 1,
   "id": "1f82bf8f-5a6c-475e-b2d2-d25a7b8151eb",
   "metadata": {},
   "outputs": [
    {
     "name": "stdout",
     "output_type": "stream",
     "text": [
      "0 1 2 4 5 \n",
      "\n"
     ]
    }
   ],
   "source": [
    "for x in range(6):\n",
    "    if (x == 3 or x==6):\n",
    "        continue\n",
    "    print(x,end=' ')\n",
    "print(\"\\n\")"
   ]
  },
  {
   "cell_type": "code",
   "execution_count": null,
   "id": "2d0f948c-31c7-4755-837b-bc79a71e9559",
   "metadata": {},
   "outputs": [],
   "source": [
    "Q4. Write a Python program that prints each item and its corresponding type from\n",
    "the following list.\n",
    "INPUT = [1452, 11.23, 1+2j, True, 'w3resource', (0, -1), [5, 12], {\"class\":'V',\n",
    "\"section\":'A'}]\n",
    "OUTPUT:\n",
    "Type of 1452 is <class 'int'>\n",
    "Type of 11.23 is <class 'float'>\n",
    "Type of (1+2j) is <class 'complex'>\n",
    "Type of True is <class 'bool'>\n",
    "Type of w3resource is <class 'str'>\n",
    "Grow Data Skil s\n",
    "Type of (0, -1) is <class 'tuple'>\n",
    "Type of [5, 12] is <class 'list'>\n",
    "Type of {'class': 'V', 'section': 'A'} is < class 'dict'>"
   ]
  },
  {
   "cell_type": "code",
   "execution_count": 2,
   "id": "06ff3f2f-2289-43eb-9bc1-db44e17c8abb",
   "metadata": {},
   "outputs": [
    {
     "name": "stdout",
     "output_type": "stream",
     "text": [
      "Type of  1452  is  <class 'int'>\n",
      "Type of  11.23  is  <class 'float'>\n",
      "Type of  (1+2j)  is  <class 'complex'>\n",
      "Type of  True  is  <class 'bool'>\n",
      "Type of  w3resource  is  <class 'str'>\n",
      "Type of  (0, -1)  is  <class 'tuple'>\n",
      "Type of  [5, 12]  is  <class 'list'>\n",
      "Type of  {'class': 'V', 'section': 'A'}  is  <class 'dict'>\n"
     ]
    }
   ],
   "source": [
    "datalist = [1452, 11.23, 1+2j, True, 'w3resource', (0, -1), [5, 12],\n",
    "{\"class\":'V', \"section\":'A'}]\n",
    "for item in datalist:\n",
    "   print (\"Type of \",item, \" is \", type(item))\n",
    "   "
   ]
  },
  {
   "cell_type": "code",
   "execution_count": null,
   "id": "685154d1-bfeb-4724-9e18-d66881df7d16",
   "metadata": {},
   "outputs": [],
   "source": [
    "5. Write a Python program to check the validity of passwords input by users.\n",
    "Validation :\n",
    "At least 1 letter between [a-z] and 1 letter between [A-Z].\n",
    "At least 1 number between [0-9].\n",
    "At least 1 character from [$#@].\n",
    "Minimum length 6 characters.\n",
    "Maximum length 16 characters.\n",
    "INPUT: Input your password:S3r@100a\n",
    "OUTPUT:Valid Password"
   ]
  },
  {
   "cell_type": "code",
   "execution_count": 1,
   "id": "67a39fa9-a6a3-4abe-b295-6b7f9de1dc10",
   "metadata": {},
   "outputs": [
    {
     "name": "stdin",
     "output_type": "stream",
     "text": [
      "Input your password:  S3r@100a\n"
     ]
    },
    {
     "name": "stdout",
     "output_type": "stream",
     "text": [
      "Valid Password\n"
     ]
    }
   ],
   "source": [
    "import re\n",
    "\n",
    "p = input(\"Input your password: \")\n",
    "x = True\n",
    "\n",
    "while x:\n",
    "    if len(p) < 6 or len(p) > 16:\n",
    "        break\n",
    "    elif not re.search(\"[a-z]\", p):\n",
    "        break\n",
    "    elif not re.search(\"[0-9]\", p):\n",
    "        break\n",
    "    elif not re.search(\"[A-Z]\", p):\n",
    "        break\n",
    "    elif not re.search(\"[$#@]\", p):\n",
    "        break\n",
    "    elif re.search(\"\\s\", p):\n",
    "        print(\"Password should not contain spaces\")\n",
    "        break\n",
    "    else:\n",
    "        print(\"Valid Password\")\n",
    "        x = False\n",
    "        break\n",
    "\n",
    "if x:\n",
    "    print(\"Not a Valid Password\")\n"
   ]
  },
  {
   "cell_type": "code",
   "execution_count": null,
   "id": "527f1a62-fb3e-40f2-887c-b36c63511c8d",
   "metadata": {},
   "outputs": [],
   "source": [
    "For My ref :Here's a breakdown of what the code does:\n",
    "\n",
    "import re: This imports the \"re\" module, which provides support for regular expressions.\n",
    "\n",
    "p = input(\"Input your password: \"): This line prompts the user to enter their password and stores it in the variable p.\n",
    "\n",
    "x = True: This initializes a variable x with the value True. This variable will be used to control the loop and track whether the password is valid or not.\n",
    "\n",
    "while x:: This starts a loop that continues as long as x is True.\n",
    "\n",
    "The next few lines contain a series of conditions to check the validity of the password using the if statements and break statements. If any condition is not met, the loop is exited with break.\n",
    "\n",
    "if len(p) < 6 or len(p) > 16: checks if the password length is less than 6 or greater than 16 characters.\n",
    "elif not re.search(\"[a-z]\", p): checks if there is at least one lowercase letter in the password.\n",
    "elif not re.search(\"[0-9]\", p): checks if there is at least one digit in the password.\n",
    "elif not re.search(\"[A-Z]\", p): checks if there is at least one uppercase letter in the password.\n",
    "elif not re.search(\"[$#@]\", p): checks if there is at least one of the special characters $, #, or @ in the password.\n",
    "elif re.search(\"\\s\", p): checks if the password contains any whitespace characters (spaces).\n",
    "If any of the above conditions are not satisfied, the loop is exited with break.\n",
    "\n",
    "If none of the above conditions are triggered (i.e., if the password meets all the criteria), then the code within the else block is executed. This block prints \"Valid Password,\" sets x to False to exit the loop, and then exits the loop using another break statement.\n",
    "\n",
    "After the loop, the code checks the value of x. If x is still True, it means the loop was exited due to one of the conditions not being met, and the code prints \"Not a Valid Password.\"\n",
    "\n",
    "In summary, the code uses a loop and a series of conditions to validate the user's password according to specific criteria, and it provides appropriate feedback based on the validity of the password."
   ]
  },
  {
   "cell_type": "code",
   "execution_count": null,
   "id": "0a9d908f-6530-4583-bffa-be110e391324",
   "metadata": {},
   "outputs": [],
   "source": [
    "Write a Python program to get the Fibonacci series between 0 and 50.\n",
    "Note : The Fibonacci Sequence is the series of numbers :\n",
    "0, 1, 1, 2, 3, 5, 8, 13, 21, ....\n",
    "Every next number is found by adding up the two numbers before it.\n",
    "Expected Output : 1 1 2 3 5 8 13 21 34"
   ]
  },
  {
   "cell_type": "code",
   "execution_count": 3,
   "id": "93f039ef-d7ef-49a7-bab9-41976ec67318",
   "metadata": {},
   "outputs": [
    {
     "name": "stdout",
     "output_type": "stream",
     "text": [
      "1\n",
      "1\n",
      "2\n",
      "3\n",
      "5\n",
      "8\n",
      "13\n",
      "21\n",
      "34\n"
     ]
    }
   ],
   "source": [
    "x, y = 0, 1\n",
    "while y < 50:\n",
    "    print(y)\n",
    "    x, y = y, x + y\n"
   ]
  },
  {
   "cell_type": "code",
   "execution_count": null,
   "id": "dcb9d04d-6cfd-4e9f-839e-fba5ec0e1d42",
   "metadata": {},
   "outputs": [],
   "source": [
    "\n",
    "Q7. Write a Python program to check whether an alphabet is a vowel or\n",
    "consonant.\n",
    "OUTPUT:\n",
    "Input a letter of the alphabet: k\n",
    "k is a consonant."
   ]
  },
  {
   "cell_type": "code",
   "execution_count": 4,
   "id": "119dcf3b-95c2-4cf3-b953-f8110aeaa1c1",
   "metadata": {},
   "outputs": [
    {
     "name": "stdin",
     "output_type": "stream",
     "text": [
      "Input a letter of the alphabet:  k\n"
     ]
    },
    {
     "name": "stdout",
     "output_type": "stream",
     "text": [
      "k is a consonant.\n"
     ]
    }
   ],
   "source": [
    "l = input(\"Input a letter of the alphabet: \")\n",
    "if l in ('a', 'e', 'i', 'o', 'u'):\n",
    "    print(\"%s is a vowel.\" % l)\n",
    "elif l == 'y':\n",
    "    print(\"Sometimes letter y stands for a vowel, sometimes stands for a consonant.\")\n",
    "else:\n",
    "    print(\"%s is a consonant.\" % l)\n",
    "\n",
    "\n",
    "\n"
   ]
  },
  {
   "cell_type": "code",
   "execution_count": null,
   "id": "f247728e-e7cd-4a5a-8532-6e64520d32b4",
   "metadata": {},
   "outputs": [],
   "source": [
    "Q8. Write a Python program that takes a string as input and replaces all\n",
    "occurrences of a given character with another character.\n",
    "INPUT: Enter a string: We study at GrowDataSkills\n",
    "Enter the character to replace: G\n",
    "Enter the replacement character: H\n",
    "OUTPUT: Replaced string: We study at HrowDataSkills\n"
   ]
  },
  {
   "cell_type": "code",
   "execution_count": 5,
   "id": "90257aba-2bd4-4b2e-a078-d4be765dff5b",
   "metadata": {},
   "outputs": [
    {
     "name": "stdin",
     "output_type": "stream",
     "text": [
      "Enter a string:  We study at HrowDataSkills\n",
      "Enter the character to replace:  G\n",
      "Enter the replacement character:  H\n"
     ]
    },
    {
     "name": "stdout",
     "output_type": "stream",
     "text": [
      "Replaced string: We study at HrowDataSkills\n"
     ]
    }
   ],
   "source": [
    "def replace_characters(input_string, old_char, new_char):\n",
    "    replaced_string = \"\"\n",
    "    for char in input_string:\n",
    "        if char == old_char:\n",
    "            replaced_string += new_char\n",
    "        else:\n",
    "            replaced_string += char\n",
    "    return replaced_string\n",
    "\n",
    "input_string = input(\"Enter a string: \")\n",
    "old_char = input(\"Enter the character to replace: \")\n",
    "new_char = input(\"Enter the replacement character: \")\n",
    "print(\"Replaced string:\", replace_characters(input_string, old_char, new_char))\n",
    "\n"
   ]
  },
  {
   "cell_type": "code",
   "execution_count": null,
   "id": "aa37f42e-2371-439d-bc82-c3b3c42af457",
   "metadata": {},
   "outputs": [],
   "source": [
    "Q9: Write a Python function to reverse a list at a specific location(\n",
    "INPUT: [10,20,30,40,50,60,70,80]\n",
    "start_pos = 2\n",
    "end_pos = 4\n",
    "OUTPUT: Reverse elements of the said list between index position 2 and 4\n",
    "[10, 20, 50, 40, 30, 60, 70, 80]"
   ]
  },
  {
   "cell_type": "code",
   "execution_count": 6,
   "id": "4d4a74d4-da6b-4e4f-8661-35b68e719897",
   "metadata": {},
   "outputs": [
    {
     "name": "stdout",
     "output_type": "stream",
     "text": [
      "Reverse elements of the said list between index position 2 and 4\n",
      "[10, 20, 50, 40, 30, 60, 70, 80]\n"
     ]
    }
   ],
   "source": [
    "def reverse_sublist(lst, start_pos, end_pos):\n",
    "    lst[start_pos:end_pos+1] = lst[start_pos:end_pos+1][::-1]\n",
    "    return lst\n",
    "\n",
    "input_list = [10, 20, 30, 40, 50, 60, 70, 80]\n",
    "start_pos = 2\n",
    "end_pos = 4\n",
    "\n",
    "result = reverse_sublist(input_list, start_pos, end_pos)\n",
    "print(\"Reverse elements of the said list between index position\", start_pos, \"and\", end_pos)\n",
    "print(result)\n"
   ]
  },
  {
   "cell_type": "code",
   "execution_count": null,
   "id": "f2542a7f-793e-4e2f-933c-6ab7e0fbde23",
   "metadata": {},
   "outputs": [],
   "source": [
    "Q10. Write a Python program that takes a string as input and checks if it is a\n",
    "palindrome (reads the same forwards and backward).\n",
    "INPUT: Enter a string: GrowDataSkills\n",
    "OUTPUT: It is not a palindrome."
   ]
  },
  {
   "cell_type": "code",
   "execution_count": 7,
   "id": "a4f4837e-c2dd-4b46-92bd-0fb3bcfc8bab",
   "metadata": {},
   "outputs": [
    {
     "name": "stdin",
     "output_type": "stream",
     "text": [
      "Enter a string:  It is not a palindrome\n"
     ]
    },
    {
     "name": "stdout",
     "output_type": "stream",
     "text": [
      "It is not a palindrome.\n"
     ]
    }
   ],
   "source": [
    "def is_palindrome(input_string):\n",
    "    cleaned_string = ''.join(c.lower() for c in input_string if c.isalnum())\n",
    "    return cleaned_string == cleaned_string[::-1]\n",
    "\n",
    "input_string = input(\"Enter a string: \")\n",
    "if is_palindrome(input_string):\n",
    "    print(\"It is a palindrome.\")\n",
    "else:\n",
    "    print(\"It is not a palindrome.\")\n"
   ]
  },
  {
   "cell_type": "code",
   "execution_count": null,
   "id": "2f17d9cc-dade-41e4-9401-e3e01898252a",
   "metadata": {},
   "outputs": [],
   "source": [
    "Q11. Write a Python program that takes a sentence as input and capitalizes the\n",
    "first letter of each word.\n",
    "INPUT: Enter a sentence: we are growdataskills\n",
    "OUTPUT: Capitalized sentence: We Are Growdataskills"
   ]
  },
  {
   "cell_type": "code",
   "execution_count": 9,
   "id": "eb3e6de5-eb04-4b70-b8f2-70152e0ed382",
   "metadata": {},
   "outputs": [
    {
     "name": "stdin",
     "output_type": "stream",
     "text": [
      "Enter a sentence:  We Are Growdataskills\n"
     ]
    },
    {
     "name": "stdout",
     "output_type": "stream",
     "text": [
      "Capitalized sentence: We Are Growdataskills\n"
     ]
    }
   ],
   "source": [
    "def capitalize_words(sentence):\n",
    "    words = sentence.split()\n",
    "    capitalized_words = [word.capitalize() for word in words]\n",
    "    return \" \".join(capitalized_words)\n",
    "\n",
    "input_sentence = input(\"Enter a sentence: \")\n",
    "print(\"Capitalized sentence:\", capitalize_words(input_sentence))\n",
    "\n"
   ]
  },
  {
   "cell_type": "code",
   "execution_count": null,
   "id": "fd08a63b-e171-4441-ba60-7a22b44172cb",
   "metadata": {},
   "outputs": [],
   "source": [
    "Q12. Write a Python program that takes two lists as input and returns a new list\n",
    "containing the common elements between the two lists.\n",
    "INPUT:\n",
    "list1 = [1, 2, 3, 4, 5]\n",
    "list2 = [3, 4, 5, 6, 7]\n",
    "OUTPUT: Common elements: [3, 4, 5]"
   ]
  },
  {
   "cell_type": "code",
   "execution_count": 10,
   "id": "9c00a682-494c-4f2b-aa20-c46cef521e04",
   "metadata": {},
   "outputs": [
    {
     "name": "stdout",
     "output_type": "stream",
     "text": [
      "Common elements: [3, 4, 5]\n"
     ]
    }
   ],
   "source": [
    "def find_common_elements(list1, list2):\n",
    "    common_elements = [item for item in list1 if item in list2]\n",
    "    return common_elements\n",
    "\n",
    "list1 = [1, 2, 3, 4, 5]\n",
    "list2 = [3, 4, 5, 6, 7]\n",
    "print(\"Common elements:\", find_common_elements(list1, list2))\n",
    "\n"
   ]
  },
  {
   "cell_type": "code",
   "execution_count": null,
   "id": "1c9c5073-ac84-41d5-ae87-bc4173cb8315",
   "metadata": {},
   "outputs": [],
   "source": [
    "Q.13. Write a Python function to calculate the factorial of a number (a non-negative\n",
    "integer). The function accepts the number as an argument.\n",
    "INPUT: Input a number to compute the factorial : 4\n",
    "OUTPUT: 24"
   ]
  },
  {
   "cell_type": "code",
   "execution_count": 12,
   "id": "5c2a7a98-5287-4cf6-8066-71b7c326a600",
   "metadata": {},
   "outputs": [
    {
     "name": "stdin",
     "output_type": "stream",
     "text": [
      "Input a number to compute the factorial:  4\n"
     ]
    },
    {
     "name": "stdout",
     "output_type": "stream",
     "text": [
      "24\n"
     ]
    }
   ],
   "source": [
    "def factorial(n):\n",
    "    if n == 0:\n",
    "        return 1\n",
    "    else:\n",
    "        return n * factorial(n - 1)\n",
    "\n",
    "n = int(input(\"Input a number to compute the factorial: \"))\n",
    "print(factorial(n))\n"
   ]
  },
  {
   "cell_type": "code",
   "execution_count": null,
   "id": "68f77342-7656-419a-aeb9-d38f70a35a78",
   "metadata": {},
   "outputs": [],
   "source": [
    "Q. Write a Python function that accepts a string and counts the number of upper\n",
    "and lower case letters.\n",
    "INPUT: The quick Brow Fox'\n",
    "OUTPUT:\n",
    "No. of Upper case characters : 3\n",
    "No. of Lower case Characters : 13"
   ]
  },
  {
   "cell_type": "code",
   "execution_count": 13,
   "id": "700101bb-b254-4db4-883b-2476228fdbdf",
   "metadata": {},
   "outputs": [
    {
     "name": "stdout",
     "output_type": "stream",
     "text": [
      "Original String: The quick Brown Fox\n",
      "No. of Upper case characters: 3\n",
      "No. of Lower case Characters: 13\n"
     ]
    }
   ],
   "source": [
    "def string_test(s):\n",
    "    d = {\"UPPER_CASE\": 0, \"LOWER_CASE\": 0}\n",
    "    for c in s:\n",
    "        if c.isupper():\n",
    "            d[\"UPPER_CASE\"] += 1\n",
    "        elif c.islower():\n",
    "            d[\"LOWER_CASE\"] += 1\n",
    "        else:\n",
    "            pass\n",
    "\n",
    "    print(\"Original String:\", s)\n",
    "    print(\"No. of Upper case characters:\", d[\"UPPER_CASE\"])\n",
    "    print(\"No. of Lower case Characters:\", d[\"LOWER_CASE\"])\n",
    "\n",
    "string_test('The quick Brown Fox')\n"
   ]
  },
  {
   "cell_type": "code",
   "execution_count": null,
   "id": "f36cda12-2182-413a-8e68-8aa781f9d782",
   "metadata": {},
   "outputs": [],
   "source": [
    "Q 14. Write a Python function to check whether a number falls within a given\n",
    "range(3,9)\n",
    "INPUT:5\n",
    "OUTPUT: 5 is in the range"
   ]
  },
  {
   "cell_type": "code",
   "execution_count": 14,
   "id": "1c3a5cf7-a6c5-4335-8730-659dc808ee4e",
   "metadata": {},
   "outputs": [
    {
     "name": "stdout",
     "output_type": "stream",
     "text": [
      "5 is in the range\n"
     ]
    }
   ],
   "source": [
    "def test_range(n):\n",
    "    if n in range(3, 9):\n",
    "        print(\"%s is in the range\" % str(n))\n",
    "    else:\n",
    "        print(\"The number is outside the given range.\")\n",
    "\n",
    "test_range(5)\n"
   ]
  },
  {
   "cell_type": "code",
   "execution_count": null,
   "id": "be5e49f2-fe58-44f3-827d-79acfd109121",
   "metadata": {},
   "outputs": [],
   "source": [
    "Q15 Q. Write a Python function that takes an integer as input and checks if it is a\n",
    "prime number.\n",
    "INPUT: Enter an integer: 13\n",
    "OUTPUT: It is a prime number.\n"
   ]
  },
  {
   "cell_type": "code",
   "execution_count": 15,
   "id": "2626bebe-16f3-4b77-83bf-8901f64f5569",
   "metadata": {},
   "outputs": [
    {
     "name": "stdin",
     "output_type": "stream",
     "text": [
      "Enter an integer:  13\n"
     ]
    },
    {
     "name": "stdout",
     "output_type": "stream",
     "text": [
      "It is a prime number.\n"
     ]
    }
   ],
   "source": [
    "def is_prime(n):\n",
    "    if n <= 1:\n",
    "        return False\n",
    "    for i in range(2, int(n ** 0.5) + 1):\n",
    "        if n % i == 0:\n",
    "            return False\n",
    "    return True\n",
    "\n",
    "num = int(input(\"Enter an integer: \"))\n",
    "if is_prime(num):\n",
    "    print(\"It is a prime number.\")\n",
    "else:\n",
    "    print(\"It is not a prime number.\")\n"
   ]
  },
  {
   "cell_type": "code",
   "execution_count": null,
   "id": "ee55a973-4f99-47b4-8fff-38babbf32220",
   "metadata": {},
   "outputs": [],
   "source": [
    "Q.16 Write a Python function that takes a list of numbers as input and returns the\n",
    "average of the numbers.\n",
    "INPUT: [1,2,3,4,5,6,7,8,9,10]\n",
    "OUTPUT: 5.5"
   ]
  },
  {
   "cell_type": "code",
   "execution_count": 16,
   "id": "1acdf99f-3d63-4b88-a9be-a4f5ec233550",
   "metadata": {},
   "outputs": [
    {
     "name": "stdout",
     "output_type": "stream",
     "text": [
      "5.5\n"
     ]
    }
   ],
   "source": [
    "def compute_average(numbers):\n",
    "    if not numbers:\n",
    "        return 0\n",
    "    return sum(numbers) / len(numbers)\n",
    "\n",
    "input_numbers = [1, 2, 3, 4, 5, 6, 7, 8, 9, 10]\n",
    "print(compute_average(input_numbers))\n"
   ]
  },
  {
   "cell_type": "code",
   "execution_count": null,
   "id": "2eedcb50-88d1-4d3d-b59e-7c5d051cf2a4",
   "metadata": {},
   "outputs": [],
   "source": [
    "Q.17 Write a Python function that takes a list as input and returns a new list\n",
    "containing only the unique elements from the input list.\n",
    "INPUT: [1,2,3,4,1,2,0,0,1]\n",
    "OUTPUT: [0, 1, 2, 3, 4]"
   ]
  },
  {
   "cell_type": "code",
   "execution_count": 17,
   "id": "5c15043c-9d3b-42ff-8ca2-09c8975bf365",
   "metadata": {},
   "outputs": [
    {
     "name": "stdout",
     "output_type": "stream",
     "text": [
      "Unique elements: [0, 1, 2, 3, 4]\n"
     ]
    }
   ],
   "source": [
    "def find_unique_elements(input_list):\n",
    "    return list(set(input_list))\n",
    "\n",
    "input_list = [1, 2, 3, 4, 1, 2, 0, 0, 1]\n",
    "print(\"Unique elements:\", find_unique_elements(input_list))\n"
   ]
  },
  {
   "cell_type": "code",
   "execution_count": null,
   "id": "e727e93e-623f-4afe-a84a-d8055349e6a5",
   "metadata": {},
   "outputs": [],
   "source": [
    "Q.18  Write a Python function that takes two strings as input and checks if they are\n",
    "anagrams (contain the same characters in any order).\n",
    "INPUT:\n",
    "Enter the first string: race\n",
    "Enter the second string: care\n",
    "OUTPUT: They are anagrams."
   ]
  },
  {
   "cell_type": "code",
   "execution_count": 18,
   "id": "ce5b599f-8158-45e6-bdcc-ff40ae68f5c0",
   "metadata": {},
   "outputs": [
    {
     "name": "stdin",
     "output_type": "stream",
     "text": [
      "Enter the first string:  race\n",
      "Enter the second string:  care\n"
     ]
    },
    {
     "name": "stdout",
     "output_type": "stream",
     "text": [
      "They are anagrams.\n"
     ]
    }
   ],
   "source": [
    "def are_anagrams(str1, str2):\n",
    "    return sorted(str1) == sorted(str2)\n",
    "\n",
    "string1 = input(\"Enter the first string: \")\n",
    "string2 = input(\"Enter the second string: \")\n",
    "\n",
    "if are_anagrams(string1, string2):\n",
    "    print(\"They are anagrams.\")\n",
    "else:\n",
    "    print(\"They are not anagrams.\")\n"
   ]
  },
  {
   "cell_type": "code",
   "execution_count": null,
   "id": "f7007420-addf-4e8c-8876-68bfa1f9caf5",
   "metadata": {},
   "outputs": [],
   "source": [
    "Q.19 Write a Python function that takes a list and an element as input and returns\n",
    "the number of occurrences of that element in the list.\n",
    "INPUT:\n",
    "input_list = [ 1,2,3,4,2,2,3,4,5,9,2,6]\n",
    "Enter the element to count: 2\n",
    "OUTPUT: Occurrences: 4\n"
   ]
  },
  {
   "cell_type": "code",
   "execution_count": 19,
   "id": "0e053af1-7457-45d5-b4cc-83025255a990",
   "metadata": {},
   "outputs": [
    {
     "name": "stdin",
     "output_type": "stream",
     "text": [
      "Enter the element to count:  2\n"
     ]
    },
    {
     "name": "stdout",
     "output_type": "stream",
     "text": [
      "Occurrences: 4\n"
     ]
    }
   ],
   "source": [
    "def count_occurrences(input_list, element):\n",
    "    return input_list.count(element)\n",
    "\n",
    "input_list = [1, 2, 3, 4, 2, 2, 3, 4, 5, 9, 2, 6]\n",
    "element_to_count = int(input(\"Enter the element to count: \"))\n",
    "print(\"Occurrences:\", count_occurrences(input_list, element_to_count))\n"
   ]
  },
  {
   "cell_type": "code",
   "execution_count": null,
   "id": "ca4aa842-a2c0-4188-82f2-852fb657bcfb",
   "metadata": {},
   "outputs": [],
   "source": [
    "Q.20 Write a Python function that takes a list of tuples as input and returns the list\n",
    "sorted based on the second element of each tuple.\n",
    "INPUT:[(1, 3), (2, 1), (3, 2), (4, 5), (5, 4)]\n",
    "OUTPUT: Sorted list of tuples: [(2, 1), (3, 2), (1, 3), (5, 4), (4, 5)]"
   ]
  },
  {
   "cell_type": "code",
   "execution_count": 20,
   "id": "4b131d07-fe2f-4b8a-940f-2a76514167a4",
   "metadata": {},
   "outputs": [
    {
     "name": "stdout",
     "output_type": "stream",
     "text": [
      "Sorted list of tuples: [(2, 1), (3, 2), (1, 3), (5, 4), (4, 5)]\n"
     ]
    }
   ],
   "source": [
    "def sort_list_of_tuples_by_second_element(input_list):\n",
    "    return sorted(input_list, key=lambda x: x[1])\n",
    "\n",
    "input_list = [(1, 3), (2, 1), (3, 2), (4, 5), (5, 4)]\n",
    "print(\"Sorted list of tuples:\", sort_list_of_tuples_by_second_element(input_list))\n"
   ]
  },
  {
   "cell_type": "code",
   "execution_count": null,
   "id": "3f5e2e2c-9d90-4be3-b2ba-b5f822e963c7",
   "metadata": {},
   "outputs": [],
   "source": [
    "Q21 Write a Python function that takes a list of integers as input and returns the\n",
    "second largest element in the list.\n",
    "INPUT: [3, 5, 2, 8, 9, 5, 1]\n",
    "OUTPUT: Second largest element: 8"
   ]
  },
  {
   "cell_type": "code",
   "execution_count": 21,
   "id": "1386ef4e-687d-4dfe-9941-80e615abf3be",
   "metadata": {},
   "outputs": [
    {
     "name": "stdout",
     "output_type": "stream",
     "text": [
      "Second largest element: 8\n"
     ]
    }
   ],
   "source": [
    "def find_second_largest(nums):\n",
    "    nums_set = set(nums)\n",
    "    if len(nums_set) < 2:\n",
    "        return None\n",
    "    nums_set.remove(max(nums_set))\n",
    "    return max(nums_set)\n",
    "\n",
    "input_nums = [3, 5, 2, 8, 9, 5, 1]\n",
    "print(\"Second largest element:\", find_second_largest(input_nums))\n"
   ]
  },
  {
   "cell_type": "code",
   "execution_count": null,
   "id": "2a437bc1-6e9e-4f10-a94d-ef90b7f60a1b",
   "metadata": {},
   "outputs": [],
   "source": [
    "Q22 Q.Write a Python lambda function that takes a list of numbers and an exponent\n",
    "n as input and returns a new list with each element raised to the power of n.\n",
    "INPUT:\n",
    "input_numbers = [1, 2, 3, 4, 5]\n",
    "exponent = 3\n",
    "OUTPUT: [1, 16, 81, 256, 625]\n"
   ]
  },
  {
   "cell_type": "code",
   "execution_count": 22,
   "id": "f0599935-29a1-4b72-9ad0-8ff80b25bb94",
   "metadata": {},
   "outputs": [
    {
     "name": "stdout",
     "output_type": "stream",
     "text": [
      "[1, 8, 27, 64, 125]\n"
     ]
    }
   ],
   "source": [
    "input_numbers = [1, 2, 3, 4, 5]\n",
    "exponent = 3\n",
    "\n",
    "a = list(map(lambda x: x ** exponent, input_numbers))\n",
    "print(a)\n"
   ]
  },
  {
   "cell_type": "code",
   "execution_count": 23,
   "id": "1df20245-188a-4c9e-b50c-da485fec9b08",
   "metadata": {},
   "outputs": [
    {
     "name": "stdout",
     "output_type": "stream",
     "text": [
      "[1, 8, 27, 64, 125]\n"
     ]
    }
   ],
   "source": [
    "input_numbers = [1, 2, 3, 4, 5]\n",
    "exponent = 3\n",
    "a = [x ** exponent for x in input_numbers]\n",
    "print(a)\n"
   ]
  },
  {
   "cell_type": "code",
   "execution_count": 28,
   "id": "e535ea54-97ed-4254-8d17-69b2b557e21c",
   "metadata": {},
   "outputs": [
    {
     "name": "stdout",
     "output_type": "stream",
     "text": [
      "[1, 16, 81, 256, 625]\n"
     ]
    }
   ],
   "source": [
    "input_numbers = [1, 2, 3, 4, 5]\n",
    "exponent = 4\n",
    "a = list(map(lambda x: x ** exponent, input_numbers))\n",
    "print(a)"
   ]
  },
  {
   "cell_type": "code",
   "execution_count": null,
   "id": "7fa1a1bf-bbd7-4b54-9aa2-038cc1baae1a",
   "metadata": {},
   "outputs": [],
   "source": []
  },
  {
   "cell_type": "code",
   "execution_count": null,
   "id": "80c7e501-04e7-4624-a867-0cf87d32b18a",
   "metadata": {},
   "outputs": [],
   "source": [
    "Q 23. Write a Python function that takes a list of integers as input and returns a new\n",
    "list containing only the odd numbers.\n",
    "INPUT: [1, 2, 3, 4, 5, 6, 7, 8, 9, 10]\n",
    "OUTPUT: [1,3,5,7,9]"
   ]
  },
  {
   "cell_type": "code",
   "execution_count": 24,
   "id": "6c1ac587-e92a-4f93-8d41-2e282cc21201",
   "metadata": {},
   "outputs": [
    {
     "name": "stdout",
     "output_type": "stream",
     "text": [
      "[1, 3, 5, 7, 9]\n"
     ]
    }
   ],
   "source": [
    "input_numbers = [1, 2, 3, 4, 5, 6, 7, 8, 9, 10]\n",
    "a = list(filter(lambda x: x % 2 != 0, input_numbers))\n",
    "print(a)\n"
   ]
  },
  {
   "cell_type": "code",
   "execution_count": null,
   "id": "41d6ae65-03a7-424f-8807-e77957b7ca1b",
   "metadata": {},
   "outputs": [],
   "source": [
    "Q 24. Write a Python program to create a class representing a Circle. Include\n",
    "methods to calculate its area and perimeter.\n",
    "Grow Data Skil s\n",
    "INPUT:\n",
    "Radius of the circle: 4\n",
    "OUTPUT:\n",
    "Area of the circle: 50.26548245743669\n",
    "Perimeter of the circle: 25.132741228718345"
   ]
  },
  {
   "cell_type": "code",
   "execution_count": 25,
   "id": "c013f293-8484-42c7-8a89-eefb9f7c4ed8",
   "metadata": {},
   "outputs": [
    {
     "name": "stdin",
     "output_type": "stream",
     "text": [
      "Input the radius of the circle:  4\n"
     ]
    },
    {
     "name": "stdout",
     "output_type": "stream",
     "text": [
      "Area of the circle: 50.26548245743669\n",
      "Perimeter of the circle: 25.132741228718345\n"
     ]
    }
   ],
   "source": [
    "import math\n",
    "\n",
    "class Circle:\n",
    "    def __init__(self, radius):\n",
    "        self.radius = radius\n",
    "\n",
    "    def calculate_circle_area(self):\n",
    "        return math.pi * self.radius**2\n",
    "\n",
    "    def calculate_circle_perimeter(self):\n",
    "        return 2 * math.pi * self.radius\n",
    "\n",
    "radius = float(input(\"Input the radius of the circle: \"))\n",
    "circle = Circle(radius)\n",
    "area = circle.calculate_circle_area()\n",
    "perimeter = circle.calculate_circle_perimeter()\n",
    "\n",
    "print(\"Area of the circle:\", area)\n",
    "print(\"Perimeter of the circle:\", perimeter)\n"
   ]
  },
  {
   "cell_type": "code",
   "execution_count": null,
   "id": "147883d9-d32f-4899-a6ba-071c407fcf92",
   "metadata": {},
   "outputs": [],
   "source": [
    "Q 25  Q. Write a Python program to create a person class. Include attributes like name,\n",
    "country and date of birth. Implement a method to determine the person's age.\n",
    "SAMPLE OUTPUT:\n",
    "Person 1:\n",
    "Name: Ferdi Odilia\n",
    "Country: France\n",
    "Date of Birth: 1962-07-12\n",
    "Age: 60\n",
    "Person 2:\n",
    "Name: Shweta Maddox\n",
    "Country: Canada\n",
    "Date of Birth: 1982-10-20\n",
    "Age: 40\n",
    "Person 3:\n",
    "Name: Elizaveta Tilman\n",
    "Country: USA\n",
    "Date of Birth: 2000-01-01\n",
    "Age: 23\n",
    "Grow Data Skil s\n"
   ]
  },
  {
   "cell_type": "code",
   "execution_count": 26,
   "id": "a8f46766-bfa0-4319-ab6a-19c6cf26754e",
   "metadata": {},
   "outputs": [
    {
     "name": "stdout",
     "output_type": "stream",
     "text": [
      "Person 1:\n",
      "Name: Ferdi Odilia\n",
      "Country: France\n",
      "Date of Birth: 1962-07-12\n",
      "Age: 61\n",
      "\n",
      "Person 2:\n",
      "Name: Shweta Maddox\n",
      "Country: Canada\n",
      "Date of Birth: 1982-10-20\n",
      "Age: 40\n",
      "\n",
      "Person 3:\n",
      "Name: Elizaveta Tilman\n",
      "Country: USA\n",
      "Date of Birth: 2000-01-01\n",
      "Age: 23\n"
     ]
    }
   ],
   "source": [
    "from datetime import date\n",
    "\n",
    "class Person:\n",
    "    def __init__(self, name, country, date_of_birth):\n",
    "        self.name = name\n",
    "        self.country = country\n",
    "        self.date_of_birth = date_of_birth\n",
    "        \n",
    "    def calculate_age(self):\n",
    "        today = date.today()\n",
    "        age = today.year - self.date_of_birth.year\n",
    "        if today < date(today.year, self.date_of_birth.month, self.date_of_birth.day):\n",
    "            age -= 1\n",
    "        return age\n",
    "\n",
    "# Creating instances of the Person class\n",
    "person1 = Person(\"Ferdi Odilia\", \"France\", date(1962, 7, 12))\n",
    "person2 = Person(\"Shweta Maddox\", \"Canada\", date(1982, 10, 20))\n",
    "person3 = Person(\"Elizaveta Tilman\", \"USA\", date(2000, 1, 1))\n",
    "\n",
    "# Displaying the information for each person\n",
    "print(\"Person 1:\")\n",
    "print(\"Name:\", person1.name)\n",
    "print(\"Country:\", person1.country)\n",
    "print(\"Date of Birth:\", person1.date_of_birth)\n",
    "print(\"Age:\", person1.calculate_age())\n",
    "\n",
    "print(\"\\nPerson 2:\")\n",
    "print(\"Name:\", person2.name)\n",
    "print(\"Country:\", person2.country)\n",
    "print(\"Date of Birth:\", person2.date_of_birth)\n",
    "print(\"Age:\", person2.calculate_age())\n",
    "\n",
    "print(\"\\nPerson 3:\")\n",
    "print(\"Name:\", person3.name)\n",
    "print(\"Country:\", person3.country)\n",
    "print(\"Date of Birth:\", person3.date_of_birth)\n",
    "print(\"Age:\", person3.calculate_age())\n"
   ]
  },
  {
   "cell_type": "code",
   "execution_count": null,
   "id": "cb333217-b340-4a9e-86ab-f064ba3dba4e",
   "metadata": {},
   "outputs": [],
   "source": [
    "Q 26. Write a Python program to create a calculator class. Include methods for\n",
    "basic arithmetic operations.\n",
    "SAMPLE INPUT:7,5\n",
    "SAMPLE OUTPUT:\n",
    "7 + 5 = 12\n",
    "7 - 5 = 2\n",
    "Grow Data Skil s\n",
    "7 * 5 = 35\n",
    "7/5 = 1.0"
   ]
  },
  {
   "cell_type": "code",
   "execution_count": 27,
   "id": "701dde3c-50d4-433c-9a37-ce7665a65073",
   "metadata": {},
   "outputs": [
    {
     "name": "stdout",
     "output_type": "stream",
     "text": [
      "7 + 5 = 12\n",
      "7 - 5 = 2\n",
      "7 * 5 = 35\n",
      "7 / 5 = 1.4\n"
     ]
    }
   ],
   "source": [
    "class Calculator:\n",
    "    def add(self, x, y):\n",
    "        return x + y\n",
    "    \n",
    "    def subtract(self, x, y):\n",
    "        return x - y\n",
    "    \n",
    "    def multiply(self, x, y):\n",
    "        return x * y\n",
    "    \n",
    "    def divide(self, x, y):\n",
    "        return x / y\n",
    "\n",
    "if __name__ == \"__main__\":\n",
    "    calculator = Calculator()\n",
    "    num1 = 7\n",
    "    num2 = 5\n",
    "    \n",
    "    print(f\"{num1} + {num2} =\", calculator.add(num1, num2))\n",
    "    print(f\"{num1} - {num2} =\", calculator.subtract(num1, num2))\n",
    "    print(f\"{num1} * {num2} =\", calculator.multiply(num1, num2))\n",
    "    print(f\"{num1} / {num2} =\", calculator.divide(num1, num2))\n"
   ]
  },
  {
   "cell_type": "code",
   "execution_count": null,
   "id": "d9ea8f79-7428-4860-929d-ba0e909167fe",
   "metadata": {},
   "outputs": [],
   "source": [
    "q 27 Write a Python program to create a class that represents a shape. Include\n",
    "methods to calculate its area and perimeter. Implement subclasses for different\n",
    "shapes like circle, triangle, and square.\n",
    "SAMPLE INPUT:\n",
    "Circle(5)\n",
    "Triangle(3, 4, 5)\n",
    "Square(6)\n",
    "SAMPLE OUTPUT:\n",
    "Circle:\n",
    "Area: 78.53981633974483\n",
    "Perimeter: 31.41592653589793\n",
    "Triangle:\n",
    "Area: 6.0\n",
    "Perimeter: 12\n",
    "Square:\n",
    "Area: 36\n",
    "Perimeter: 24\n"
   ]
  },
  {
   "cell_type": "code",
   "execution_count": 29,
   "id": "44bc5a85-a316-4bf0-8209-d0789c29dac1",
   "metadata": {},
   "outputs": [
    {
     "name": "stdout",
     "output_type": "stream",
     "text": [
      "Circle:\n",
      "Area: 78.53981633974483\n",
      "Perimeter: 31.41592653589793\n",
      "\n",
      "Triangle:\n",
      "Area: 6.0\n",
      "Perimeter: 12\n",
      "\n",
      "Square:\n",
      "Area: 36\n",
      "Perimeter: 24\n"
     ]
    }
   ],
   "source": [
    "import math\n",
    "\n",
    "class Shape:\n",
    "    def area(self):\n",
    "        pass\n",
    "    \n",
    "    def perimeter(self):\n",
    "        pass\n",
    "\n",
    "class Circle(Shape):\n",
    "    def __init__(self, radius):\n",
    "        self.radius = radius\n",
    "        \n",
    "    def area(self):\n",
    "        return math.pi * self.radius * self.radius\n",
    "        \n",
    "    def perimeter(self):\n",
    "        return 2 * math.pi * self.radius\n",
    "\n",
    "class Triangle(Shape):\n",
    "    def __init__(self, side1, side2, side3):\n",
    "        self.side1 = side1\n",
    "        self.side2 = side2\n",
    "        self.side3 = side3\n",
    "        \n",
    "    def area(self):\n",
    "        s = (self.side1 + self.side2 + self.side3) / 2\n",
    "        return math.sqrt(s * (s - self.side1) * (s - self.side2) * (s - self.side3))\n",
    "        \n",
    "    def perimeter(self):\n",
    "        return self.side1 + self.side2 + self.side3\n",
    "\n",
    "class Square(Shape):\n",
    "    def __init__(self, side):\n",
    "        self.side = side\n",
    "        \n",
    "    def area(self):\n",
    "        return self.side * self.side\n",
    "        \n",
    "    def perimeter(self):\n",
    "        return 4 * self.side\n",
    "\n",
    "if __name__ == \"__main__\":\n",
    "    # Create instances of the subclasses\n",
    "    circle = Circle(5)\n",
    "    triangle = Triangle(3, 4, 5)\n",
    "    square = Square(6)\n",
    "    \n",
    "    # Calculate and print the area and perimeter of each shape\n",
    "    print(\"Circle:\")\n",
    "    print(\"Area:\", circle.area())\n",
    "    print(\"Perimeter:\", circle.perimeter())\n",
    "    \n",
    "    print(\"\\nTriangle:\")\n",
    "    print(\"Area:\", triangle.area())\n",
    "    print(\"Perimeter:\", triangle.perimeter())\n",
    "    \n",
    "    print(\"\\nSquare:\")\n",
    "    print(\"Area:\", square.area())\n",
    "    print(\"Perimeter:\", square.perimeter())\n"
   ]
  },
  {
   "cell_type": "code",
   "execution_count": null,
   "id": "e1b26bfa-5b67-4318-8154-a3b950ba1b34",
   "metadata": {},
   "outputs": [],
   "source": []
  },
  {
   "cell_type": "code",
   "execution_count": null,
   "id": "19226834-62e4-44d0-8367-c2c8a0b6717e",
   "metadata": {},
   "outputs": [],
   "source": []
  }
 ],
 "metadata": {
  "kernelspec": {
   "display_name": "Python 3 (ipykernel)",
   "language": "python",
   "name": "python3"
  },
  "language_info": {
   "codemirror_mode": {
    "name": "ipython",
    "version": 3
   },
   "file_extension": ".py",
   "mimetype": "text/x-python",
   "name": "python",
   "nbconvert_exporter": "python",
   "pygments_lexer": "ipython3",
   "version": "3.11.4"
  }
 },
 "nbformat": 4,
 "nbformat_minor": 5
}
