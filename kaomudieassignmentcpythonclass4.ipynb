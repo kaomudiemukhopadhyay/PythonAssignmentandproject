{
 "cells": [
  {
   "cell_type": "code",
   "execution_count": null,
   "id": "b37cfcbc-785d-4928-a8c5-586123d0a635",
   "metadata": {},
   "outputs": [],
   "source": [
    "1. Create a NumPy array containing integers from 1 to 10."
   ]
  },
  {
   "cell_type": "code",
   "execution_count": 2,
   "id": "8596748a-fa19-4ffd-b2a0-88959fb29ab2",
   "metadata": {},
   "outputs": [
    {
     "name": "stdout",
     "output_type": "stream",
     "text": [
      "[ 1  2  3  4  5  6  7  8  9 10]\n"
     ]
    }
   ],
   "source": [
    "import numpy as np\n",
    "arr = np.arange(1, 11)\n",
    "print(arr)\n"
   ]
  },
  {
   "cell_type": "code",
   "execution_count": null,
   "id": "e7718d2e-21ac-47ad-b019-24bd02c19b35",
   "metadata": {},
   "outputs": [],
   "source": [
    "2. Create a 2D NumPy array with shape (3, 4) filled with random float values between 0\n",
    "and 1."
   ]
  },
  {
   "cell_type": "code",
   "execution_count": 3,
   "id": "b09c11fa-e878-4f67-b085-a214dbed75b4",
   "metadata": {},
   "outputs": [
    {
     "name": "stdout",
     "output_type": "stream",
     "text": [
      "[[0.03452909 0.4152857  0.29599774 0.55252673]\n",
      " [0.46162331 0.23456597 0.6224665  0.52953915]\n",
      " [0.58814818 0.6625491  0.41413019 0.6018202 ]]\n"
     ]
    }
   ],
   "source": [
    "arr = np.random.rand(3, 4)\n",
    "print(arr)"
   ]
  },
  {
   "cell_type": "code",
   "execution_count": null,
   "id": "5e4609a0-cfb1-4188-b050-cfcc2d616aec",
   "metadata": {},
   "outputs": [],
   "source": [
    "3 Given the following NumPy array:\n",
    "arr = np.array([10, 20, 30, 40, 50])\n",
    "Add 5 to each element of the array."
   ]
  },
  {
   "cell_type": "code",
   "execution_count": 4,
   "id": "df8a2f4f-13a6-4fd6-94a9-1e93fb15877d",
   "metadata": {},
   "outputs": [
    {
     "name": "stdout",
     "output_type": "stream",
     "text": [
      "[15 25 35 45 55]\n"
     ]
    }
   ],
   "source": [
    "arr = np.array([10, 20, 30, 40, 50])\n",
    "arr = arr + 5\n",
    "print(arr)"
   ]
  },
  {
   "cell_type": "code",
   "execution_count": null,
   "id": "bb17cd71-c6cd-4186-bab6-21b42b967dfe",
   "metadata": {},
   "outputs": [],
   "source": [
    "4 Given two NumPy arrays:\n",
    "arr1 = np.array([1, 2, 3, 4]) arr2 = np.array([5, 6, 7, 8])\n",
    "Concatenate them into a single array."
   ]
  },
  {
   "cell_type": "code",
   "execution_count": 5,
   "id": "849b8ea2-c2f7-493c-aa92-9c15e7d14dd9",
   "metadata": {},
   "outputs": [
    {
     "name": "stdout",
     "output_type": "stream",
     "text": [
      "[1 2 3 4 5 6 7 8]\n"
     ]
    }
   ],
   "source": [
    "arr1 = np.array([1, 2, 3, 4])\n",
    "arr2 = np.array([5, 6, 7, 8])\n",
    "result = np.concatenate([arr1, arr2])\n",
    "print(result)"
   ]
  },
  {
   "cell_type": "code",
   "execution_count": null,
   "id": "126f30ec-2629-4197-8940-b1f5fd695711",
   "metadata": {},
   "outputs": [],
   "source": [
    "5. Create a NumPy array of 10 elements with equally spaced values from 0 to 9."
   ]
  },
  {
   "cell_type": "code",
   "execution_count": 6,
   "id": "4572b325-7d3e-4054-968c-3fed7d56b5cc",
   "metadata": {},
   "outputs": [
    {
     "name": "stdout",
     "output_type": "stream",
     "text": [
      "[0. 1. 2. 3. 4. 5. 6. 7. 8. 9.]\n"
     ]
    }
   ],
   "source": [
    "arr = np.linspace(0, 9, 10)\n",
    "print(arr)"
   ]
  },
  {
   "cell_type": "code",
   "execution_count": null,
   "id": "b1d5845e-8c9d-43ba-901d-c422359a6312",
   "metadata": {},
   "outputs": [],
   "source": [
    "Given a NumPy array:\n",
    "arr = np.array([1, 2, 3, 4, 5, 6])\n",
    "Reverse the elements in the array."
   ]
  },
  {
   "cell_type": "code",
   "execution_count": 7,
   "id": "780b6e14-dd0e-490b-8b3a-6d71cb7cdbf1",
   "metadata": {},
   "outputs": [
    {
     "name": "stdout",
     "output_type": "stream",
     "text": [
      "[6 5 4 3 2 1]\n"
     ]
    }
   ],
   "source": [
    "arr = np.array([1, 2, 3, 4, 5, 6])\n",
    "arr = arr[::-1]\n",
    "print(arr)"
   ]
  },
  {
   "cell_type": "code",
   "execution_count": null,
   "id": "bf094bda-8a07-4f9f-a4f0-2eb579d6796e",
   "metadata": {},
   "outputs": [],
   "source": [
    "Create a 3x3 identity matrix using NumPy."
   ]
  },
  {
   "cell_type": "code",
   "execution_count": 8,
   "id": "f49cd026-24e3-47a6-bf7e-ef934b1a3b65",
   "metadata": {},
   "outputs": [
    {
     "name": "stdout",
     "output_type": "stream",
     "text": [
      "[[1. 0. 0.]\n",
      " [0. 1. 0.]\n",
      " [0. 0. 1.]]\n"
     ]
    }
   ],
   "source": [
    "identity_matrix = np.eye(3)\n",
    "print(identity_matrix)"
   ]
  },
  {
   "cell_type": "code",
   "execution_count": null,
   "id": "d7628267-8237-4f40-baf3-3780c34ce1bc",
   "metadata": {},
   "outputs": [],
   "source": [
    "Calculate the mean, median, and standard deviation of the following NumPy array:\n",
    "arr = np.array([15, 20, 25, 30, 35])\n"
   ]
  },
  {
   "cell_type": "code",
   "execution_count": 9,
   "id": "248aff2e-38ab-4782-8e12-f9fc4e74b0e0",
   "metadata": {},
   "outputs": [
    {
     "name": "stdout",
     "output_type": "stream",
     "text": [
      "25.0 25.0 7.0710678118654755\n"
     ]
    }
   ],
   "source": [
    "arr = np.array([15, 20, 25, 30, 35])\n",
    "mean_value = np.mean(arr)\n",
    "median_value = np.median(arr)\n",
    "std_deviation = np.std(arr)\n",
    "print(mean_value,median_value,std_deviation)"
   ]
  },
  {
   "cell_type": "code",
   "execution_count": null,
   "id": "8ee715df-04e6-4a78-a865-e230c35b56c0",
   "metadata": {},
   "outputs": [],
   "source": [
    "9. Given a 2D NumPy array:\n",
    "arr = np.array([[1, 2, 3], [4, 5, 6], [7, 8, 9]])\n",
    "Get the diagonal elements of the array."
   ]
  },
  {
   "cell_type": "code",
   "execution_count": 10,
   "id": "73b1872a-2885-477d-b73b-5e0aaf15b7ee",
   "metadata": {},
   "outputs": [
    {
     "name": "stdout",
     "output_type": "stream",
     "text": [
      "[1 5 9]\n"
     ]
    }
   ],
   "source": [
    "arr = np.array([[1, 2, 3], [4, 5, 6], [7, 8, 9]])\n",
    "diagonal_elements = np.diagonal(arr)\n",
    "print(diagonal_elements)"
   ]
  },
  {
   "cell_type": "code",
   "execution_count": null,
   "id": "c277cee9-c893-47a6-b596-0130be2bcd1e",
   "metadata": {},
   "outputs": [],
   "source": [
    "10. Create a NumPy array of 10 random integers between 1 and 100 (inclusive).\n"
   ]
  },
  {
   "cell_type": "code",
   "execution_count": 11,
   "id": "db7bc370-b1cc-466f-81f1-423f6e76ce02",
   "metadata": {},
   "outputs": [
    {
     "name": "stdout",
     "output_type": "stream",
     "text": [
      "[35  2 57 91 91 59 80 98  4 69]\n"
     ]
    }
   ],
   "source": [
    "arr = np.random.randint(1, 101, 10)\n",
    "print(arr)"
   ]
  },
  {
   "cell_type": "code",
   "execution_count": null,
   "id": "3251d922-8883-40be-ab7e-90dc7c1a129c",
   "metadata": {},
   "outputs": [],
   "source": [
    "11. Create a 2D NumPy array of shape (5, 5) with random integers between 1 and 50\n",
    "(inclusive)."
   ]
  },
  {
   "cell_type": "code",
   "execution_count": 12,
   "id": "f0fda196-23c2-485e-b9f3-8af6392ce3b5",
   "metadata": {},
   "outputs": [
    {
     "name": "stdout",
     "output_type": "stream",
     "text": [
      "[[30 25 48 30 37]\n",
      " [18  4 20 13  8]\n",
      " [38 28 13  1 12]\n",
      " [23 30 14 10 15]\n",
      " [20 46 19 33 43]]\n"
     ]
    }
   ],
   "source": [
    "arr = np.random.randint(1, 51, size=(5, 5))\n",
    "print(arr)"
   ]
  },
  {
   "cell_type": "code",
   "execution_count": null,
   "id": "cb0d2db8-9513-4809-a2ea-016b0638b1cf",
   "metadata": {},
   "outputs": [],
   "source": [
    "12. Given a 2D NumPy array:\n",
    "arr = np.array([[1, 2, 3], [4, 5, 6], [7, 8, 9]])\n",
    "Calculate the sum of all the elements in the array.\n"
   ]
  },
  {
   "cell_type": "code",
   "execution_count": 13,
   "id": "373c72f8-0e57-42e1-a3bd-f606a920fb2e",
   "metadata": {},
   "outputs": [
    {
     "name": "stdout",
     "output_type": "stream",
     "text": [
      "45\n"
     ]
    }
   ],
   "source": [
    "arr = np.array([[1, 2, 3], [4, 5, 6], [7, 8, 9]])\n",
    "sum_of_elements = np.sum(arr)\n",
    "print(sum_of_elements)\n"
   ]
  },
  {
   "cell_type": "code",
   "execution_count": null,
   "id": "2e72b062-d681-4b6c-9481-7a7b4e36fa64",
   "metadata": {},
   "outputs": [],
   "source": [
    "13. Create a NumPy array with 100 evenly spaced values between 0 and 1 (inclusive) and\n",
    "reshape it into a 10x10 matrix.\n"
   ]
  },
  {
   "cell_type": "code",
   "execution_count": 15,
   "id": "89b4dc88-3c2d-4130-9162-367521a62a39",
   "metadata": {},
   "outputs": [
    {
     "name": "stdout",
     "output_type": "stream",
     "text": [
      "[[0.         0.01010101 0.02020202 0.03030303 0.04040404 0.05050505\n",
      "  0.06060606 0.07070707 0.08080808 0.09090909]\n",
      " [0.1010101  0.11111111 0.12121212 0.13131313 0.14141414 0.15151515\n",
      "  0.16161616 0.17171717 0.18181818 0.19191919]\n",
      " [0.2020202  0.21212121 0.22222222 0.23232323 0.24242424 0.25252525\n",
      "  0.26262626 0.27272727 0.28282828 0.29292929]\n",
      " [0.3030303  0.31313131 0.32323232 0.33333333 0.34343434 0.35353535\n",
      "  0.36363636 0.37373737 0.38383838 0.39393939]\n",
      " [0.4040404  0.41414141 0.42424242 0.43434343 0.44444444 0.45454545\n",
      "  0.46464646 0.47474747 0.48484848 0.49494949]\n",
      " [0.50505051 0.51515152 0.52525253 0.53535354 0.54545455 0.55555556\n",
      "  0.56565657 0.57575758 0.58585859 0.5959596 ]\n",
      " [0.60606061 0.61616162 0.62626263 0.63636364 0.64646465 0.65656566\n",
      "  0.66666667 0.67676768 0.68686869 0.6969697 ]\n",
      " [0.70707071 0.71717172 0.72727273 0.73737374 0.74747475 0.75757576\n",
      "  0.76767677 0.77777778 0.78787879 0.7979798 ]\n",
      " [0.80808081 0.81818182 0.82828283 0.83838384 0.84848485 0.85858586\n",
      "  0.86868687 0.87878788 0.88888889 0.8989899 ]\n",
      " [0.90909091 0.91919192 0.92929293 0.93939394 0.94949495 0.95959596\n",
      "  0.96969697 0.97979798 0.98989899 1.        ]]\n"
     ]
    }
   ],
   "source": [
    "arr = np.linspace(0, 1, 100).reshape(10, 10)\n",
    "print(arr)\n"
   ]
  },
  {
   "cell_type": "code",
   "execution_count": null,
   "id": "4d821a57-1362-4623-998a-927117a04e4b",
   "metadata": {},
   "outputs": [],
   "source": [
    "14. Given two NumPy arrays:\n",
    "import numpy as np\n",
    "arr1 = np.array([1, 2, 3, 4]) arr2 = np.array([5, 6, 7, 8])\n",
    "Find the common elements between the two arrays."
   ]
  },
  {
   "cell_type": "code",
   "execution_count": 16,
   "id": "1688434c-a5a8-4d6c-91a9-82680a9b0318",
   "metadata": {},
   "outputs": [
    {
     "name": "stdout",
     "output_type": "stream",
     "text": [
      "[]\n"
     ]
    }
   ],
   "source": [
    "arr1 = np.array([1, 2, 3, 4])\n",
    "arr2 = np.array([5, 6, 7, 8])\n",
    "common_elements = np.intersect1d(arr1, arr2)\n",
    "print(common_elements)"
   ]
  },
  {
   "cell_type": "code",
   "execution_count": null,
   "id": "5581a89b-9212-441d-8936-3fc7458a0de2",
   "metadata": {},
   "outputs": [],
   "source": [
    "15. Create a NumPy array containing 10 random integers between -50 and 50 (inclusive).\n",
    "Replace all negative values in the array with 0."
   ]
  },
  {
   "cell_type": "code",
   "execution_count": 17,
   "id": "a8b7c0ed-524a-485d-84da-c82e9aec291a",
   "metadata": {},
   "outputs": [
    {
     "name": "stdout",
     "output_type": "stream",
     "text": [
      "[-45  -1   3  30  -2 -41  -8 -35  49   6]\n",
      "[ 0  0  3 30  0  0  0  0 49  6]\n"
     ]
    }
   ],
   "source": [
    "arr = np.random.randint(-50, 51, 10)\n",
    "print(arr)\n",
    "arr[arr < 0] = 0\n",
    "print(arr)"
   ]
  },
  {
   "cell_type": "code",
   "execution_count": null,
   "id": "787165d9-dff4-44ee-86fa-88cd9c7af454",
   "metadata": {},
   "outputs": [],
   "source": [
    "16. Given a 2D NumPy array:\n",
    "import numpy as np\n",
    "arr = np.array([[1, 2, 3], [4, 5, 6], [7, 8, 9]])\n",
    "Calculate the sum of each row and each column separately."
   ]
  },
  {
   "cell_type": "code",
   "execution_count": 18,
   "id": "01bc74a5-3ea1-4e2e-bb56-ecdd2fd70517",
   "metadata": {},
   "outputs": [
    {
     "name": "stdout",
     "output_type": "stream",
     "text": [
      "[[1 2 3]\n",
      " [4 5 6]\n",
      " [7 8 9]]\n",
      "[ 6 15 24]\n",
      "[12 15 18]\n"
     ]
    }
   ],
   "source": [
    "arr = np.array([[1, 2, 3], [4, 5, 6], [7, 8, 9]])\n",
    "sum_of_rows = np.sum(arr, axis=1)\n",
    "sum_of_columns = np.sum(arr, axis=0)\n",
    "print(arr)\n",
    "print(sum_of_rows)\n",
    "print(sum_of_columns)"
   ]
  },
  {
   "cell_type": "code",
   "execution_count": null,
   "id": "564d4ac4-a725-45c2-9c01-c3213a4b0209",
   "metadata": {},
   "outputs": [],
   "source": [
    "17. Create a NumPy array of shape (6, 6) with diagonal elements as 1, 2, 3, 4, 5, and 6, and\n",
    "all other elements as 0."
   ]
  },
  {
   "cell_type": "code",
   "execution_count": 19,
   "id": "33a47587-c3f8-4bd1-874e-1c81f77c6558",
   "metadata": {},
   "outputs": [
    {
     "name": "stdout",
     "output_type": "stream",
     "text": [
      "[[1 0 0 0 0 0]\n",
      " [0 2 0 0 0 0]\n",
      " [0 0 3 0 0 0]\n",
      " [0 0 0 4 0 0]\n",
      " [0 0 0 0 5 0]\n",
      " [0 0 0 0 0 6]]\n"
     ]
    }
   ],
   "source": [
    "arr = np.diag(np.arange(1, 7))\n",
    "print(arr)"
   ]
  },
  {
   "cell_type": "code",
   "execution_count": null,
   "id": "db5fb7e4-8d64-4d04-b1b8-79080107644b",
   "metadata": {},
   "outputs": [],
   "source": [
    "18. Given a NumPy array:\n",
    "import numpy as np\n",
    "arr = np.array([1, 2, 3, 4, 5])\n",
    "Normalize the array so that the values range from 0 to 1."
   ]
  },
  {
   "cell_type": "code",
   "execution_count": 20,
   "id": "399644fc-b721-4509-a10a-7f626eeec177",
   "metadata": {},
   "outputs": [
    {
     "name": "stdout",
     "output_type": "stream",
     "text": [
      "[1 2 3 4 5]\n",
      "[0.   0.25 0.5  0.75 1.  ]\n"
     ]
    }
   ],
   "source": [
    "arr = np.array([1, 2, 3, 4, 5])\n",
    "print(arr)\n",
    "normalized_arr = (arr - arr.min()) / (arr.max() - arr.min())\n",
    "print(normalized_arr)"
   ]
  },
  {
   "cell_type": "code",
   "execution_count": null,
   "id": "9b15d7b5-14ae-438e-95aa-6867b72895dd",
   "metadata": {},
   "outputs": [],
   "source": [
    "19. Create a NumPy array with 20 random integers between 1 and 100 (inclusive). Find the\n",
    "maximum value in the array.\n",
    "\n"
   ]
  },
  {
   "cell_type": "code",
   "execution_count": 21,
   "id": "8f83f1e6-65d6-400e-925c-e39c659fe461",
   "metadata": {},
   "outputs": [
    {
     "name": "stdout",
     "output_type": "stream",
     "text": [
      "[ 7 14 68 85 93 37 79 94 56 22 58 37 13 40 33 13 15 65 53  1]\n",
      "94\n"
     ]
    }
   ],
   "source": [
    "arr = np.random.randint(1, 101, 20)\n",
    "print(arr)\n",
    "max_value = np.max(arr)\n",
    "print(max_value)\n"
   ]
  },
  {
   "cell_type": "code",
   "execution_count": null,
   "id": "848a06b6-f1c7-4d3c-bad0-8260047bbe49",
   "metadata": {},
   "outputs": [],
   "source": [
    "20. Given two NumPy arrays:\n",
    "import numpy as np\n",
    "arr1 = np.array([1, 2, 3, 4]) arr2 = np.array([5, 6, 7, 8])\n",
    "Compute the element-wise product of the two arrays."
   ]
  },
  {
   "cell_type": "code",
   "execution_count": 22,
   "id": "912866f3-d74a-4e90-aac3-f1b02f4b66fc",
   "metadata": {},
   "outputs": [
    {
     "name": "stdout",
     "output_type": "stream",
     "text": [
      "[ 5 12 21 32]\n"
     ]
    }
   ],
   "source": [
    "arr1 = np.array([1, 2, 3, 4])\n",
    "arr2 = np.array([5, 6, 7, 8])\n",
    "elementwise_product = arr1 * arr2\n",
    "print(elementwise_product)"
   ]
  },
  {
   "cell_type": "code",
   "execution_count": null,
   "id": "9c40ece0-29e3-4ba0-93db-795f744dc33a",
   "metadata": {},
   "outputs": [],
   "source": [
    "Write a Pandas program to add, subtract, multiple and divide two Pandas Series.\n",
    "Input: [2, 4, 6, 8, 10], [1, 3, 5, 7, 9]\n",
    "Output:\n",
    "Add two Series:\n",
    "0 3\n",
    "1 7\n",
    "2 11\n",
    "3 15\n",
    "4 19\n",
    "dtype: int64\n",
    "Subtract two Series:\n",
    "0 1\n",
    "1 1\n",
    "2 1\n",
    "3 1\n",
    "4 1\n",
    "dtype: int64\n",
    "Grow Data Skil s\n",
    "Multiply two Series:\n",
    "0 2\n",
    "1 12\n",
    "2 30\n",
    "3 56\n",
    "4 90\n",
    "dtype: int64\n",
    "Divide Series1 by Series2:\n",
    "0 2.000000\n",
    "1 1.333333\n",
    "2 1.200000\n",
    "3 1.142857\n",
    "4 1.111111\n",
    "dtype: float64"
   ]
  },
  {
   "cell_type": "code",
   "execution_count": 26,
   "id": "313081c8-503d-4e6a-b65e-07921d315d2a",
   "metadata": {},
   "outputs": [
    {
     "name": "stdout",
     "output_type": "stream",
     "text": [
      "Add two Series:\n",
      "0     3\n",
      "1     7\n",
      "2    11\n",
      "3    15\n",
      "4    19\n",
      "dtype: int64\n",
      "Subtract two Series:\n",
      "0    1\n",
      "1    1\n",
      "2    1\n",
      "3    1\n",
      "4    1\n",
      "dtype: int64\n",
      "Multiply two Series:\n",
      "0     2\n",
      "1    12\n",
      "2    30\n",
      "3    56\n",
      "4    90\n",
      "dtype: int64\n",
      "Divide Series1 by Series2:\n",
      "0    2.000000\n",
      "1    1.333333\n",
      "2    1.200000\n",
      "3    1.142857\n",
      "4    1.111111\n",
      "dtype: float64\n"
     ]
    }
   ],
   "source": [
    "import pandas as pd\n",
    "\n",
    "ds1 = pd.Series([2, 4, 6, 8, 10])\n",
    "ds2 = pd.Series([1, 3, 5, 7, 9])\n",
    "\n",
    "ds = ds1 + ds2\n",
    "print(\"Add two Series:\")\n",
    "print(ds)\n",
    "\n",
    "ds = ds1 - ds2\n",
    "print(\"Subtract two Series:\")\n",
    "print(ds)\n",
    "\n",
    "ds = ds1 * ds2\n",
    "print(\"Multiply two Series:\")\n",
    "print(ds)\n",
    "\n",
    "ds = ds1 / ds2\n",
    "print(\"Divide Series1 by Series2:\")\n",
    "print(ds)\n"
   ]
  },
  {
   "cell_type": "code",
   "execution_count": null,
   "id": "c40124cc-55df-462e-a4e8-27599e6ec461",
   "metadata": {},
   "outputs": [],
   "source": [
    "Q. Create a Pandas DataFrame from the following dictionary, where the keys represent\n",
    "columns and the values represent the data:\n",
    "data = { 'Name': ['Alice', 'Bob', 'Charlie', 'David'], 'Age': [25, 30, 22, 28], 'City': ['New York',\n",
    "'London', 'Paris', 'Tokyo'] }\n"
   ]
  },
  {
   "cell_type": "code",
   "execution_count": 6,
   "id": "a731f361-f583-4c06-85ac-f314a0948fd2",
   "metadata": {},
   "outputs": [
    {
     "name": "stdout",
     "output_type": "stream",
     "text": [
      "Requirement already satisfied: pandas in c:\\users\\saura\\appdata\\local\\programs\\python\\python311\\lib\\site-packages (2.0.3)\n",
      "Requirement already satisfied: python-dateutil>=2.8.2 in c:\\users\\saura\\appdata\\local\\programs\\python\\python311\\lib\\site-packages (from pandas) (2.8.2)\n",
      "Requirement already satisfied: pytz>=2020.1 in c:\\users\\saura\\appdata\\local\\programs\\python\\python311\\lib\\site-packages (from pandas) (2023.3)\n",
      "Requirement already satisfied: tzdata>=2022.1 in c:\\users\\saura\\appdata\\local\\programs\\python\\python311\\lib\\site-packages (from pandas) (2023.3)\n",
      "Requirement already satisfied: numpy>=1.21.0 in c:\\users\\saura\\appdata\\local\\programs\\python\\python311\\lib\\site-packages (from pandas) (1.25.2)\n",
      "Requirement already satisfied: six>=1.5 in c:\\users\\saura\\appdata\\local\\programs\\python\\python311\\lib\\site-packages (from python-dateutil>=2.8.2->pandas) (1.16.0)\n",
      "Note: you may need to restart the kernel to use updated packages.\n"
     ]
    }
   ],
   "source": [
    "pip install pandas\n"
   ]
  },
  {
   "cell_type": "code",
   "execution_count": 2,
   "id": "72693986-106d-498e-975a-e4ef15712205",
   "metadata": {},
   "outputs": [
    {
     "name": "stdout",
     "output_type": "stream",
     "text": [
      "      Name  Age      City\n",
      "0    Alice   25  New York\n",
      "1      Bob   30    London\n",
      "2  Charlie   22     Paris\n",
      "3    David   28     Tokyo\n"
     ]
    }
   ],
   "source": [
    "import pandas as pd\n",
    "\n",
    "data = {\n",
    "    'Name': ['Alice', 'Bob', 'Charlie', 'David'],\n",
    "    'Age': [25, 30, 22, 28],\n",
    "    'City': ['New York', 'London', 'Paris', 'Tokyo']\n",
    "}\n",
    "\n",
    "df = pd.DataFrame(data)\n",
    "print(df)\n",
    "\n",
    "\n"
   ]
  },
  {
   "cell_type": "code",
   "execution_count": null,
   "id": "2ac9c3e4-bd53-45a4-98d4-86de4021a404",
   "metadata": {},
   "outputs": [],
   "source": [
    "Q. Given a Pandas DataFrame 'df', select the first 5 rows of the DataFrame."
   ]
  },
  {
   "cell_type": "code",
   "execution_count": 4,
   "id": "87874c4a-8095-484e-8d0c-b3cdb0284310",
   "metadata": {},
   "outputs": [
    {
     "name": "stdout",
     "output_type": "stream",
     "text": [
      "      Name  Age      City\n",
      "0    Alice   25  New York\n",
      "1      Bob   30    London\n",
      "2  Charlie   22     Paris\n",
      "3    David   28     Tokyo\n"
     ]
    }
   ],
   "source": [
    "first_five_rows = df.head(5)\n",
    "print(df)\n"
   ]
  },
  {
   "cell_type": "code",
   "execution_count": null,
   "id": "7cd4607f-2ba0-40cb-ad1c-70e4c777f3d7",
   "metadata": {},
   "outputs": [],
   "source": [
    "Q. Create a new column 'Salary' in the DataFrame 'df' with random integer values\n",
    "between 50000 and 80000 (inclusive)."
   ]
  },
  {
   "cell_type": "code",
   "execution_count": 7,
   "id": "dd562d64-1c8c-4c5e-9716-3c80c9a3bd31",
   "metadata": {},
   "outputs": [
    {
     "name": "stdout",
     "output_type": "stream",
     "text": [
      "      Name  Age      City  Salary\n",
      "0    Alice   25  New York   69944\n",
      "1      Bob   30    London   70522\n",
      "2  Charlie   22     Paris   56295\n",
      "3    David   28     Tokyo   61591\n"
     ]
    }
   ],
   "source": [
    "import pandas as pd\n",
    "import numpy as np\n",
    "\n",
    "data = {\n",
    "    'Name': ['Alice', 'Bob', 'Charlie', 'David'],\n",
    "    'Age': [25, 30, 22, 28],\n",
    "    'City': ['New York', 'London', 'Paris', 'Tokyo']\n",
    "}\n",
    "\n",
    "df = pd.DataFrame(data)\n",
    "\n",
    "# Generate random salary values between 50000 and 80000\n",
    "salary_values = np.random.randint(50000, 80001, size=len(df))\n",
    "\n",
    "# Add the 'Salary' column to the DataFrame\n",
    "df['Salary'] = salary_values\n",
    "\n",
    "print(df)\n"
   ]
  },
  {
   "cell_type": "code",
   "execution_count": null,
   "id": "d1a06f77-5dc4-41c2-b361-c473316148fb",
   "metadata": {},
   "outputs": [],
   "source": [
    "Q. Given two Pandas DataFrames 'df1' and 'df2' with the same columns, concatenate\n",
    "them vertically."
   ]
  },
  {
   "cell_type": "code",
   "execution_count": 11,
   "id": "cd64c4bd-d19b-4424-8075-1b93328f3ec0",
   "metadata": {},
   "outputs": [
    {
     "name": "stdout",
     "output_type": "stream",
     "text": [
      "      Name  Age\n",
      "0    Alice   25\n",
      "1      Bob   30\n",
      "2  Charlie   22\n",
      "0    David   28\n",
      "1      Eva   24\n",
      "2    Frank   29\n"
     ]
    }
   ],
   "source": [
    "import pandas as pd\n",
    "\n",
    "# Define the first DataFrame (df1)\n",
    "data1 = {\n",
    "    'Name': ['Alice', 'Bob', 'Charlie'],\n",
    "    'Age': [25, 30, 22]\n",
    "}\n",
    "df1 = pd.DataFrame(data1)\n",
    "\n",
    "# Define the second DataFrame (df2)\n",
    "data2 = {\n",
    "    'Name': ['David', 'Eva', 'Frank'],\n",
    "    'Age': [28, 24, 29]\n",
    "}\n",
    "df2 = pd.DataFrame(data2)\n",
    "\n",
    "# Concatenate the DataFrames vertically\n",
    "concatenated_df = pd.concat([df1, df2])\n",
    "\n",
    "# Print the concatenated DataFrame\n",
    "print(concatenated_df)\n",
    "\n"
   ]
  },
  {
   "cell_type": "markdown",
   "id": "d940fcc9-792e-4aa7-9c5a-9452b68c69eb",
   "metadata": {},
   "source": [
    "pd.concat() function is used to concatenate them vertically. import pandas as pd\n",
    "\n",
    "# AssuminWeou have df1 and df2 defined already\n",
    "# df1 = ...\n",
    "# df2 = ...\n",
    "\n",
    "concatenated_df = pd.concat([df1, df2])\n",
    "print(concatenated_df)"
   ]
  },
  {
   "cell_type": "code",
   "execution_count": null,
   "id": "9e6a5a70-688a-4fad-b9bc-c35b3f1cdf59",
   "metadata": {},
   "outputs": [],
   "source": [
    "Q. Create a new DataFrame named 'df_filtered' from 'df', containing only rows where the\n",
    "'Age' column is greater than 25."
   ]
  },
  {
   "cell_type": "code",
   "execution_count": 12,
   "id": "9bb17118-471d-4e28-917f-7dba016340aa",
   "metadata": {},
   "outputs": [
    {
     "name": "stdout",
     "output_type": "stream",
     "text": [
      "    Name  Age    City  Salary\n",
      "1    Bob   30  London   70522\n",
      "3  David   28   Tokyo   61591\n"
     ]
    }
   ],
   "source": [
    "import pandas as pd\n",
    "\n",
    "# Assuming you have defined the DataFrame 'df' already\n",
    "# df = ...\n",
    "\n",
    "df_filtered = df[df['Age'] > 25]\n",
    "print(df_filtered)\n"
   ]
  },
  {
   "cell_type": "code",
   "execution_count": null,
   "id": "28c5d3a8-5371-437e-80a0-85456f2e1d51",
   "metadata": {},
   "outputs": [],
   "source": [
    "Q. Given a Pandas DataFrame 'df', sort the DataFrame based on the 'Age' column in\n",
    "ascending order."
   ]
  },
  {
   "cell_type": "code",
   "execution_count": 13,
   "id": "00f0c7ef-f0dd-40d4-834a-1147b3bef784",
   "metadata": {},
   "outputs": [
    {
     "name": "stdout",
     "output_type": "stream",
     "text": [
      "      Name  Age      City  Salary\n",
      "2  Charlie   22     Paris   56295\n",
      "0    Alice   25  New York   69944\n",
      "3    David   28     Tokyo   61591\n",
      "1      Bob   30    London   70522\n"
     ]
    }
   ],
   "source": [
    "sorted_df = df.sort_values(by='Age', ascending=True)\n",
    "print(sorted_df)\n"
   ]
  },
  {
   "cell_type": "code",
   "execution_count": null,
   "id": "f9a88039-da7e-4b56-bba6-99a5f1e98b17",
   "metadata": {},
   "outputs": [],
   "source": [
    "Q. Calculate the mean and median of the 'Salary' column in the DataFrame 'df'."
   ]
  },
  {
   "cell_type": "code",
   "execution_count": 14,
   "id": "829fa510-0023-49b9-b1be-77efafd66566",
   "metadata": {},
   "outputs": [
    {
     "name": "stdout",
     "output_type": "stream",
     "text": [
      "64588.0 65767.5\n"
     ]
    }
   ],
   "source": [
    "mean_salary = df['Salary'].mean()\n",
    "median_salary = df['Salary'].median()\n",
    "print(mean_salary, median_salary)"
   ]
  },
  {
   "cell_type": "code",
   "execution_count": 5,
   "id": "4f5968b2-6dae-4caa-b036-016cd94c787f",
   "metadata": {},
   "outputs": [
    {
     "name": "stdout",
     "output_type": "stream",
     "text": [
      "              Name            Team  Number Position  Age  Weight  \\\n",
      "0    Avery Bradley  Boston Celtics       0       PG   25     180   \n",
      "1      Jae Crowder  Boston Celtics      99       SF   25     235   \n",
      "2     John Holland  Boston Celtics      30       SG   27     205   \n",
      "3      R.J. Hunter  Boston Celtics      28       SG   22     185   \n",
      "4    Jonas Jerebko  Boston Celtics       8       PF   29     231   \n",
      "..             ...             ...     ...      ...  ...     ...   \n",
      "452     Trey Lyles       Utah Jazz      41       PF   20     234   \n",
      "453   Shelvin Mack       Utah Jazz       8       PG   26     203   \n",
      "454      Raul Neto       Utah Jazz      25       PG   24     179   \n",
      "455   Tibor Pleiss       Utah Jazz      21        C   26     256   \n",
      "456    Jeff Withey       Utah Jazz      24        C   26     231   \n",
      "\n",
      "               College     Salary  \n",
      "0                Texas  7730337.0  \n",
      "1            Marquette  6796117.0  \n",
      "2    Boston University        NaN  \n",
      "3        Georgia State  1148640.0  \n",
      "4                  NaN  5000000.0  \n",
      "..                 ...        ...  \n",
      "452           Kentucky  2239800.0  \n",
      "453             Butler  2433333.0  \n",
      "454                NaN   900000.0  \n",
      "455                NaN  2900000.0  \n",
      "456             Kansas   947276.0  \n",
      "\n",
      "[457 rows x 8 columns]\n"
     ]
    }
   ],
   "source": [
    "import pandas as pd\n",
    "\n",
    "# Use a raw string literal\n",
    "df = pd.read_csv(r\"C:\\Users\\saura\\Downloads\\Pyhtonclass4\\NBADATASET\\nba.csv\")\n",
    "print(df)\n",
    "\n"
   ]
  },
  {
   "cell_type": "code",
   "execution_count": 3,
   "id": "eae514e5-4a67-4a22-99c2-72d1effb60e5",
   "metadata": {},
   "outputs": [],
   "source": [
    "Q. Read the csv provide(nba.csv) into a Dataframe\u0002Display:\n",
    "*Number of rows and columns in dataframe\n",
    "* Top 10 and bottom 10 rows\n",
    "* Summary statistics for numerical columns\n",
    "*Datatype of columns in dataframe\n",
    "* Length of the data\n",
    "* Print all the Rows from index 100 to 200"
   ]
  },
  {
   "cell_type": "code",
   "execution_count": 6,
   "id": "25ff75d9-3012-4807-926a-47bd4a835e11",
   "metadata": {},
   "outputs": [
    {
     "name": "stdout",
     "output_type": "stream",
     "text": [
      "Number of rows and columns: (457, 8)\n",
      "Top 10 rows:\n",
      "            Name            Team  Number Position  Age  Weight  \\\n",
      "0  Avery Bradley  Boston Celtics       0       PG   25     180   \n",
      "1    Jae Crowder  Boston Celtics      99       SF   25     235   \n",
      "2   John Holland  Boston Celtics      30       SG   27     205   \n",
      "3    R.J. Hunter  Boston Celtics      28       SG   22     185   \n",
      "4  Jonas Jerebko  Boston Celtics       8       PF   29     231   \n",
      "5   Amir Johnson  Boston Celtics      90       PF   29     240   \n",
      "6  Jordan Mickey  Boston Celtics      55       PF   21     235   \n",
      "7   Kelly Olynyk  Boston Celtics      41        C   25     238   \n",
      "8   Terry Rozier  Boston Celtics      12       PG   22     190   \n",
      "9   Marcus Smart  Boston Celtics      36       PG   22     220   \n",
      "\n",
      "             College      Salary  \n",
      "0              Texas   7730337.0  \n",
      "1          Marquette   6796117.0  \n",
      "2  Boston University         NaN  \n",
      "3      Georgia State   1148640.0  \n",
      "4                NaN   5000000.0  \n",
      "5                NaN  12000000.0  \n",
      "6                LSU   1170960.0  \n",
      "7            Gonzaga   2165160.0  \n",
      "8         Louisville   1824360.0  \n",
      "9     Oklahoma State   3431040.0  \n",
      "Bottom 10 rows:\n",
      "               Name       Team  Number Position  Age  Weight   College  \\\n",
      "447     Rudy Gobert  Utah Jazz      27        C   23     245       NaN   \n",
      "448  Gordon Hayward  Utah Jazz      20       SF   26     226    Butler   \n",
      "449     Rodney Hood  Utah Jazz       5       SG   23     206      Duke   \n",
      "450      Joe Ingles  Utah Jazz       2       SF   28     226       NaN   \n",
      "451   Chris Johnson  Utah Jazz      23       SF   26     206    Dayton   \n",
      "452      Trey Lyles  Utah Jazz      41       PF   20     234  Kentucky   \n",
      "453    Shelvin Mack  Utah Jazz       8       PG   26     203    Butler   \n",
      "454       Raul Neto  Utah Jazz      25       PG   24     179       NaN   \n",
      "455    Tibor Pleiss  Utah Jazz      21        C   26     256       NaN   \n",
      "456     Jeff Withey  Utah Jazz      24        C   26     231    Kansas   \n",
      "\n",
      "         Salary  \n",
      "447   1175880.0  \n",
      "448  15409570.0  \n",
      "449   1348440.0  \n",
      "450   2050000.0  \n",
      "451    981348.0  \n",
      "452   2239800.0  \n",
      "453   2433333.0  \n",
      "454    900000.0  \n",
      "455   2900000.0  \n",
      "456    947276.0  \n",
      "Summary statistics for numerical columns:\n",
      "           Number         Age      Weight        Salary\n",
      "count  457.000000  457.000000  457.000000  4.460000e+02\n",
      "mean    17.678337   26.938731  221.522976  4.842684e+06\n",
      "std     15.966090    4.404016   26.368343  5.229238e+06\n",
      "min      0.000000   19.000000  161.000000  3.088800e+04\n",
      "25%      5.000000   24.000000  200.000000  1.044792e+06\n",
      "50%     13.000000   26.000000  220.000000  2.839073e+06\n",
      "75%     25.000000   30.000000  240.000000  6.500000e+06\n",
      "max     99.000000   40.000000  307.000000  2.500000e+07\n",
      "Datatype of columns:\n",
      "Name         object\n",
      "Team         object\n",
      "Number        int64\n",
      "Position     object\n",
      "Age           int64\n",
      "Weight        int64\n",
      "College      object\n",
      "Salary      float64\n",
      "dtype: object\n",
      "Length of the data: 457\n",
      "Rows from index 100 to 200:\n",
      "                 Name                  Team  Number Position  Age  Weight  \\\n",
      "100        Chris Paul  Los Angeles Clippers       3       PG   31     175   \n",
      "101       Paul Pierce  Los Angeles Clippers      34       SF   38     235   \n",
      "102    Pablo Prigioni  Los Angeles Clippers       9       PG   39     185   \n",
      "103         JJ Redick  Los Angeles Clippers       4       SG   31     190   \n",
      "104     Austin Rivers  Los Angeles Clippers      25       PG   23     200   \n",
      "..                ...                   ...     ...      ...  ...     ...   \n",
      "196       Lavoy Allen        Indiana Pacers       5       PF   27     255   \n",
      "197  Rakeem Christmas        Indiana Pacers      25       PF   24     250   \n",
      "198       Monta Ellis        Indiana Pacers      11       SG   30     185   \n",
      "199       Paul George        Indiana Pacers      13       SF   26     220   \n",
      "200       George Hill        Indiana Pacers       3       PG   30     188   \n",
      "\n",
      "          College      Salary  \n",
      "100   Wake Forest  21468695.0  \n",
      "101        Kansas   3376000.0  \n",
      "102           NaN    947726.0  \n",
      "103          Duke   7085000.0  \n",
      "104          Duke   3110796.0  \n",
      "..            ...         ...  \n",
      "196        Temple   4050000.0  \n",
      "197      Syracuse   1007026.0  \n",
      "198           NaN  10300000.0  \n",
      "199  Fresno State  17120106.0  \n",
      "200         IUPUI   8000000.0  \n",
      "\n",
      "[101 rows x 8 columns]\n"
     ]
    }
   ],
   "source": [
    "import pandas as pd\n",
    "\n",
    "# Read the CSV file into a DataFrame\n",
    "df = pd.read_csv(r\"C:\\Users\\saura\\Downloads\\Pyhtonclass4\\NBADATASET\\nba.csv\")\n",
    "\n",
    "# Number of rows and columns in the dataframe\n",
    "print(\"Number of rows and columns:\", df.shape)\n",
    "\n",
    "# Top 10 rows\n",
    "print(\"Top 10 rows:\")\n",
    "print(df.head(10))\n",
    "\n",
    "# Bottom 10 rows\n",
    "print(\"Bottom 10 rows:\")\n",
    "print(df.tail(10))\n",
    "\n",
    "# Summary statistics for numerical columns\n",
    "print(\"Summary statistics for numerical columns:\")\n",
    "print(df.describe())\n",
    "\n",
    "# Datatype of columns in the dataframe\n",
    "print(\"Datatype of columns:\")\n",
    "print(df.dtypes)\n",
    "\n",
    "# Length of the data\n",
    "print(\"Length of the data:\", len(df))\n",
    "\n",
    "# Print all the rows from index 100 to 200\n",
    "print(\"Rows from index 100 to 200:\")\n",
    "print(df.iloc[100:201])\n"
   ]
  },
  {
   "cell_type": "code",
   "execution_count": null,
   "id": "52732305-184f-4522-b162-4f5eeaea365b",
   "metadata": {},
   "outputs": [],
   "source": []
  }
 ],
 "metadata": {
  "kernelspec": {
   "display_name": "Python 3 (ipykernel)",
   "language": "python",
   "name": "python3"
  },
  "language_info": {
   "codemirror_mode": {
    "name": "ipython",
    "version": 3
   },
   "file_extension": ".py",
   "mimetype": "text/x-python",
   "name": "python",
   "nbconvert_exporter": "python",
   "pygments_lexer": "ipython3",
   "version": "3.11.4"
  }
 },
 "nbformat": 4,
 "nbformat_minor": 5
}
